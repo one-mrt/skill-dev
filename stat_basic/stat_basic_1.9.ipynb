{
    "cells": [
        {
            "cell_type": "code",
            "execution_count": null,
            "source": [],
            "outputs": [],
            "metadata": {}
        },
        {
            "cell_type": "markdown",
            "source": [
                "<h1>1.9. Тренировка по темам \"Размах\" Межквартильный размах</h1>"
            ],
            "metadata": {}
        },
        {
            "cell_type": "code",
            "execution_count": 2,
            "source": [
                "import pandas as pd\r\n",
                "\r\n",
                "df = pd.DataFrame({\r\n",
                "    'men': [80.2, 80.8, 57.5, 98, 50.5, 73.8, 77.4, 59.7, 77.9, 52.6],\r\n",
                "    'women': [57.9, 57.3, 72.8, 48.2, 59.5, 48.3, 61.2, 53.9, 53.9, 70.7]\r\n",
                "})"
            ],
            "outputs": [],
            "metadata": {}
        },
        {
            "cell_type": "markdown",
            "source": [
                "<h2>Задание 1.9.1</h2>\r\n",
                "Размах для мужчин"
            ],
            "metadata": {}
        },
        {
            "cell_type": "code",
            "execution_count": 5,
            "source": [
                "range = round(df.men.max() - df.men.min(),1)\r\n",
                "range"
            ],
            "outputs": [
                {
                    "output_type": "execute_result",
                    "data": {
                        "text/plain": [
                            "47.5"
                        ]
                    },
                    "metadata": {},
                    "execution_count": 5
                }
            ],
            "metadata": {}
        },
        {
            "cell_type": "markdown",
            "source": [
                "Межквартильный размах"
            ],
            "metadata": {}
        },
        {
            "cell_type": "code",
            "execution_count": 7,
            "source": [
                "iqr = round(df.men.quantile(q=0.75,interpolation='midpoint') - df.men.quantile(q=0.25, interpolation='midpoint'),1)\r\n",
                "iqr"
            ],
            "outputs": [
                {
                    "output_type": "execute_result",
                    "data": {
                        "text/plain": [
                            "20.5"
                        ]
                    },
                    "metadata": {},
                    "execution_count": 7
                }
            ],
            "metadata": {}
        },
        {
            "cell_type": "markdown",
            "source": [
                "Размах для женщин"
            ],
            "metadata": {}
        },
        {
            "cell_type": "code",
            "execution_count": 9,
            "source": [
                "rangeW = round(df.women.max() - df.women.min(),1)\r\n",
                "rangeW"
            ],
            "outputs": [
                {
                    "output_type": "execute_result",
                    "data": {
                        "text/plain": [
                            "24.6"
                        ]
                    },
                    "metadata": {},
                    "execution_count": 9
                }
            ],
            "metadata": {}
        },
        {
            "cell_type": "code",
            "execution_count": 11,
            "source": [
                "iqrW = round(df.women.quantile(q=0.75,interpolation='midpoint') - df.women.quantile(q=0.25,interpolation='midpoint'),1)\r\n",
                "iqrW"
            ],
            "outputs": [
                {
                    "output_type": "execute_result",
                    "data": {
                        "text/plain": [
                            "6.5"
                        ]
                    },
                    "metadata": {},
                    "execution_count": 11
                }
            ],
            "metadata": {}
        },
        {
            "cell_type": "markdown",
            "source": [
                "<h2>Задание 1.9.2 - <b>Вычисляем старндартное отклонение</b></h2>"
            ],
            "metadata": {}
        },
        {
            "cell_type": "code",
            "execution_count": 17,
            "source": [
                "stdM = round(df.men.std(),1)\r\n",
                "print(f'Стандартное отклонение мужчины {stdM}')\r\n",
                "\r\n",
                "varM = round(df.men.var(),1)\r\n",
                "print(f'Дисперсия мужчины {varM}')\r\n",
                "\r\n",
                "stdW = round(df.women.std(),1)\r\n",
                "print(f'Стандартное отклонение (женщины) {stdW}')\r\n",
                "\r\n",
                "varW = round(df.women.var(),1)\r\n",
                "print(f'Дисперсия (женщины) {varW}')"
            ],
            "outputs": [
                {
                    "output_type": "stream",
                    "name": "stdout",
                    "text": [
                        "Стандартное отклонение мужчины 15.2\n",
                        "Дисперсия мужчины 230.5\n",
                        "Стандартное отклонение (женщины) 8.3\n",
                        "Дисперсия (женщины) 68.4\n"
                    ]
                }
            ],
            "metadata": {}
        }
    ],
    "metadata": {
        "orig_nbformat": 4,
        "language_info": {
            "name": "python",
            "version": "3.9.5",
            "mimetype": "text/x-python",
            "codemirror_mode": {
                "name": "ipython",
                "version": 3
            },
            "pygments_lexer": "ipython3",
            "nbconvert_exporter": "python",
            "file_extension": ".py"
        },
        "kernelspec": {
            "name": "python3",
            "display_name": "Python 3.9.5 64-bit ('.v-machine': venv)"
        },
        "interpreter": {
            "hash": "91bb9dfb0aa2682d472899f8fcdc6f7a97cda47a987b16065f36f3e8fc272924"
        }
    },
    "nbformat": 4,
    "nbformat_minor": 2
}