{
    "cells": [
        {
            "cell_type": "markdown",
            "source": [
                "<h1>Тренировка</h1>\r\n",
                "<h2>Вычисляем квартили в python</h2>"
            ],
            "metadata": {}
        },
        {
            "cell_type": "code",
            "execution_count": 1,
            "source": [
                "import pandas as pd\r\n",
                "import numpy as np"
            ],
            "outputs": [],
            "metadata": {}
        },
        {
            "cell_type": "markdown",
            "source": [
                "Также у <b>quantile()</b> существует необязательный параметр, который указывает метод интерполяции, который нужно использовать, когда требуемый квантиль лежит между двумя точками данных. По умолчанию используется линейная интерполяция"
            ],
            "metadata": {}
        },
        {
            "cell_type": "code",
            "execution_count": 3,
            "source": [
                "df = pd.DataFrame({\r\n",
                "    'men': [80, 80.8, 57.5, 98, 50.5, 73.8, 77.4, 59.7, 77.9, 52.6],\r\n",
                "    'women': [57.9, 57.3, 72.8, 48.2, 59.5, 48.3, 61.2, 53.9, 53.9, 70.7]\r\n",
                "})\r\n",
                "\r\n",
                "#\r\n",
                "#df.quantile(q=0.5,axis=0,numeric_only=True,interpolation='liner')"
            ],
            "outputs": [],
            "metadata": {}
        },
        {
            "cell_type": "markdown",
            "source": [
                "Чтобы вычислять квантиль как среднее между двумя точками в части данных, необходимо сменить вид интерполяции на следующий"
            ],
            "metadata": {}
        },
        {
            "cell_type": "code",
            "execution_count": 4,
            "source": [
                "#df.quantile(q=0.5,axis-0,numeric_only=True,interpolation='midpoint')"
            ],
            "outputs": [],
            "metadata": {}
        },
        {
            "cell_type": "markdown",
            "source": [
                "<h2>Задание 1.7.1</h2>"
            ],
            "metadata": {}
        },
        {
            "cell_type": "code",
            "execution_count": 9,
            "source": [
                "Q1_M = round(df.men.quantile(q=0.25,interpolation='midpoint'),1)\r\n",
                "Q3_M = round(df.men.quantile(q=0.75,interpolation='midpoint'),1)\r\n",
                "Q1_W = round(df.women.quantile(q=0.25,interpolation='midpoint'),1)\r\n",
                "Q3_W = round(df.women.quantile(q=0.75,interpolation='midpoint'),1)\r\n",
                "\r\n",
                "print(f'q1 men {Q1_M} q3 men {Q3_M} q1 women {Q1_W} q3 women {Q3_W}')\r\n"
            ],
            "outputs": [
                {
                    "output_type": "stream",
                    "name": "stdout",
                    "text": [
                        "q1 men 58.6 q3 men 78.95 q1 women 53.9 q3 women 60.35\n"
                    ]
                }
            ],
            "metadata": {}
        }
    ],
    "metadata": {
        "orig_nbformat": 4,
        "language_info": {
            "name": "python",
            "version": "3.9.5",
            "mimetype": "text/x-python",
            "codemirror_mode": {
                "name": "ipython",
                "version": 3
            },
            "pygments_lexer": "ipython3",
            "nbconvert_exporter": "python",
            "file_extension": ".py"
        },
        "kernelspec": {
            "name": "python3",
            "display_name": "Python 3.9.5 64-bit ('.v-machine': venv)"
        },
        "interpreter": {
            "hash": "91bb9dfb0aa2682d472899f8fcdc6f7a97cda47a987b16065f36f3e8fc272924"
        }
    },
    "nbformat": 4,
    "nbformat_minor": 2
}