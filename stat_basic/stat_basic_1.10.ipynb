{
    "cells": [
        {
            "cell_type": "markdown",
            "source": [
                "<h1>1.10 Выбросы</h1>"
            ],
            "metadata": {}
        },
        {
            "cell_type": "markdown",
            "source": [
                "<h2>Задаине 1.10.1</h2>\r\n",
                "Проверить наличие выбросов в выборке пациентов клиники"
            ],
            "metadata": {}
        },
        {
            "cell_type": "code",
            "execution_count": 8,
            "source": [
                "import pandas as pd\r\n",
                "import numpy as np\r\n",
                "\r\n",
                "df = pd.DataFrame({\r\n",
                "    'men': [80.2, 80.8, 57.5, 98, 50.5, 73.8, 77.4, 59.7, 77.9, 52.6],\r\n",
                "    'women': [57.9, 57.3, 72.8, 48.2, 59.5, 48.3, 61.2, 53.9, 53.9, 70.7]\r\n",
                "})"
            ],
            "outputs": [],
            "metadata": {}
        },
        {
            "cell_type": "code",
            "execution_count": 13,
            "source": [
                "iqrM = df.men.quantile(q=0.75,interpolation='midpoint') - df.men.quantile(q=0.25,interpolation='midpoint')\r\n",
                "iqrW = df.women.quantile(q=0.75,interpolation='midpoint') - df.women.quantile(q=0.25,interpolation='midpoint')\r\n",
                "\r\n",
                "downM = df.men.quantile(q=0.25,interpolation='midpoint') - (1.5 * iqrM)\r\n",
                "upM = df.men.quantile(q=0.75,interpolation='midpoint') + (1.5 * iqrM)\r\n",
                "\r\n",
                "downW = df.women.quantile(q=0.25,interpolation='midpoint') - 1.5 * iqrW\r\n",
                "upW = df.women.quantile(q=0.75,interpolation='midpoint') + 1.5 * iqrW\r\n",
                "\r\n",
                "npDF_women = np.array(df.women)\r\n",
                "npDF_men = np.array(df.men)\r\n",
                "\r\n",
                "#df[df.men < downM]\r\n",
                "#df[df.men > upM]\r\n",
                "\r\n",
                "#df[df.women < downW]\r\n",
                "#df[df.women > upW]\r\n",
                "\r\n",
                "npDF_women[npDF_women > upW]"
            ],
            "outputs": [
                {
                    "output_type": "execute_result",
                    "data": {
                        "text/plain": [
                            "array([72.8, 70.7])"
                        ]
                    },
                    "metadata": {},
                    "execution_count": 13
                }
            ],
            "metadata": {}
        },
        {
            "cell_type": "markdown",
            "source": [
                "<h2>Задание 1.10.2</h2>"
            ],
            "metadata": {}
        },
        {
            "cell_type": "code",
            "execution_count": 23,
            "source": [
                "dft = pd.DataFrame({\r\n",
                "    'year': [2007, 2008, 2009, 2010, 2011, 2012, 2013, 2014, 2015, 2016, 2017, 2018],\r\n",
                "    'temp': [-4.7, -6.1, -5.5, -3.3, -7.1, -3.1, -5.2, -7.3, -12.1, -6.6, -5.9, -6.3]\r\n",
                "})\r\n",
                "\r\n",
                "round(dft.temp.mean(),1)\r\n",
                "round(dft.temp.median(),1)\r\n",
                "round(dft.temp.std(),1)\r\n",
                "#round(dft.temp.max() - dft.temp.min(),1)\r\n",
                "#round(dft.temp.quantile(q=0.75,interpolation='midpoint') - dft.temp.quantile(q=0.25,interpolation='midpoint'),1)"
            ],
            "outputs": [
                {
                    "output_type": "execute_result",
                    "data": {
                        "text/plain": [
                            "2.3"
                        ]
                    },
                    "metadata": {},
                    "execution_count": 23
                }
            ],
            "metadata": {}
        }
    ],
    "metadata": {
        "orig_nbformat": 4,
        "language_info": {
            "name": "python",
            "version": "3.9.5",
            "mimetype": "text/x-python",
            "codemirror_mode": {
                "name": "ipython",
                "version": 3
            },
            "pygments_lexer": "ipython3",
            "nbconvert_exporter": "python",
            "file_extension": ".py"
        },
        "kernelspec": {
            "name": "python3",
            "display_name": "Python 3.9.5 64-bit ('.v-machine': venv)"
        },
        "interpreter": {
            "hash": "91bb9dfb0aa2682d472899f8fcdc6f7a97cda47a987b16065f36f3e8fc272924"
        }
    },
    "nbformat": 4,
    "nbformat_minor": 2
}