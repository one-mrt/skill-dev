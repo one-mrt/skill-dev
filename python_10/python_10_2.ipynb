{
    "cells": [
        {
            "cell_type": "markdown",
            "source": [
                "<h1>10.2 Графические возможности Pandas</h1>"
            ],
            "metadata": {}
        },
        {
            "cell_type": "markdown",
            "source": [
                "<p>Обзор датасета</p>"
            ],
            "metadata": {}
        },
        {
            "cell_type": "code",
            "execution_count": 10,
            "source": [
                "import pandas as pd\r\n",
                "\r\n",
                "df = pd.read_csv('./data/tips.csv',header=0)\r\n",
                "df.head()"
            ],
            "outputs": [
                {
                    "output_type": "execute_result",
                    "data": {
                        "text/plain": [
                            "   total_bill   tip     sex smoker  day    time  size\n",
                            "0       16.99  1.01  Female     No  Sun  Dinner     2\n",
                            "1       10.34  1.66    Male     No  Sun  Dinner     3\n",
                            "2       21.01  3.50    Male     No  Sun  Dinner     3\n",
                            "3       23.68  3.31    Male     No  Sun  Dinner     2\n",
                            "4       24.59  3.61  Female     No  Sun  Dinner     4"
                        ],
                        "text/html": [
                            "<div>\n",
                            "<style scoped>\n",
                            "    .dataframe tbody tr th:only-of-type {\n",
                            "        vertical-align: middle;\n",
                            "    }\n",
                            "\n",
                            "    .dataframe tbody tr th {\n",
                            "        vertical-align: top;\n",
                            "    }\n",
                            "\n",
                            "    .dataframe thead th {\n",
                            "        text-align: right;\n",
                            "    }\n",
                            "</style>\n",
                            "<table border=\"1\" class=\"dataframe\">\n",
                            "  <thead>\n",
                            "    <tr style=\"text-align: right;\">\n",
                            "      <th></th>\n",
                            "      <th>total_bill</th>\n",
                            "      <th>tip</th>\n",
                            "      <th>sex</th>\n",
                            "      <th>smoker</th>\n",
                            "      <th>day</th>\n",
                            "      <th>time</th>\n",
                            "      <th>size</th>\n",
                            "    </tr>\n",
                            "  </thead>\n",
                            "  <tbody>\n",
                            "    <tr>\n",
                            "      <th>0</th>\n",
                            "      <td>16.99</td>\n",
                            "      <td>1.01</td>\n",
                            "      <td>Female</td>\n",
                            "      <td>No</td>\n",
                            "      <td>Sun</td>\n",
                            "      <td>Dinner</td>\n",
                            "      <td>2</td>\n",
                            "    </tr>\n",
                            "    <tr>\n",
                            "      <th>1</th>\n",
                            "      <td>10.34</td>\n",
                            "      <td>1.66</td>\n",
                            "      <td>Male</td>\n",
                            "      <td>No</td>\n",
                            "      <td>Sun</td>\n",
                            "      <td>Dinner</td>\n",
                            "      <td>3</td>\n",
                            "    </tr>\n",
                            "    <tr>\n",
                            "      <th>2</th>\n",
                            "      <td>21.01</td>\n",
                            "      <td>3.50</td>\n",
                            "      <td>Male</td>\n",
                            "      <td>No</td>\n",
                            "      <td>Sun</td>\n",
                            "      <td>Dinner</td>\n",
                            "      <td>3</td>\n",
                            "    </tr>\n",
                            "    <tr>\n",
                            "      <th>3</th>\n",
                            "      <td>23.68</td>\n",
                            "      <td>3.31</td>\n",
                            "      <td>Male</td>\n",
                            "      <td>No</td>\n",
                            "      <td>Sun</td>\n",
                            "      <td>Dinner</td>\n",
                            "      <td>2</td>\n",
                            "    </tr>\n",
                            "    <tr>\n",
                            "      <th>4</th>\n",
                            "      <td>24.59</td>\n",
                            "      <td>3.61</td>\n",
                            "      <td>Female</td>\n",
                            "      <td>No</td>\n",
                            "      <td>Sun</td>\n",
                            "      <td>Dinner</td>\n",
                            "      <td>4</td>\n",
                            "    </tr>\n",
                            "  </tbody>\n",
                            "</table>\n",
                            "</div>"
                        ]
                    },
                    "metadata": {},
                    "execution_count": 10
                }
            ],
            "metadata": {}
        },
        {
            "cell_type": "markdown",
            "source": [
                "<h2>Задание 1</h2>\r\n",
                "<p>Сколько строк содержится в датафрейме без учета заголовка</p>"
            ],
            "metadata": {}
        },
        {
            "cell_type": "code",
            "execution_count": 12,
            "source": [
                "df.count()"
            ],
            "outputs": [
                {
                    "output_type": "execute_result",
                    "data": {
                        "text/plain": [
                            "total_bill    244\n",
                            "tip           244\n",
                            "sex           244\n",
                            "smoker        244\n",
                            "day           244\n",
                            "time          244\n",
                            "size          244\n",
                            "dtype: int64"
                        ]
                    },
                    "metadata": {},
                    "execution_count": 12
                }
            ],
            "metadata": {}
        },
        {
            "cell_type": "markdown",
            "source": [
                "<h2>Задание 2</h2>\r\n",
                "<p>Напишите максимальную сумму счета в датафрейме</p>"
            ],
            "metadata": {}
        },
        {
            "cell_type": "code",
            "execution_count": 15,
            "source": [
                "df[df.total_bill == df.total_bill.max()].total_bill.values[0]"
            ],
            "outputs": [
                {
                    "output_type": "execute_result",
                    "data": {
                        "text/plain": [
                            "50.81"
                        ]
                    },
                    "metadata": {},
                    "execution_count": 15
                }
            ],
            "metadata": {}
        }
    ],
    "metadata": {
        "orig_nbformat": 4,
        "language_info": {
            "name": "python",
            "version": "3.9.5",
            "mimetype": "text/x-python",
            "codemirror_mode": {
                "name": "ipython",
                "version": 3
            },
            "pygments_lexer": "ipython3",
            "nbconvert_exporter": "python",
            "file_extension": ".py"
        },
        "kernelspec": {
            "name": "python3",
            "display_name": "Python 3.9.5 64-bit ('.v-machine': venv)"
        },
        "interpreter": {
            "hash": "91bb9dfb0aa2682d472899f8fcdc6f7a97cda47a987b16065f36f3e8fc272924"
        }
    },
    "nbformat": 4,
    "nbformat_minor": 2
}