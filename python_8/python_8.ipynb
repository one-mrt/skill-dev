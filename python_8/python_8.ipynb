{
 "metadata": {
  "language_info": {
   "codemirror_mode": {
    "name": "ipython",
    "version": 3
   },
   "file_extension": ".py",
   "mimetype": "text/x-python",
   "name": "python",
   "nbconvert_exporter": "python",
   "pygments_lexer": "ipython3",
   "version": "3.9.5"
  },
  "orig_nbformat": 4,
  "kernelspec": {
   "name": "python3",
   "display_name": "Python 3.9.5 64-bit ('.v-machine': venv)"
  },
  "interpreter": {
   "hash": "91bb9dfb0aa2682d472899f8fcdc6f7a97cda47a987b16065f36f3e8fc272924"
  }
 },
 "nbformat": 4,
 "nbformat_minor": 2,
 "cells": [
  {
   "cell_type": "markdown",
   "source": [
    "## Python-8. Очистка данных"
   ],
   "metadata": {}
  },
  {
   "cell_type": "markdown",
   "source": [
    "## 8.2 Букмекерская контора"
   ],
   "metadata": {}
  },
  {
   "cell_type": "code",
   "execution_count": 18,
   "source": [
    "import pandas as pd\r\n",
    "from IPython.display import display\r\n",
    "\r\n",
    "log = pd.read_csv('./file/log.csv',header=None)\r\n",
    "\r\n",
    "display(log.head(1))"
   ],
   "outputs": [
    {
     "output_type": "display_data",
     "data": {
      "text/plain": "                                  0                     1   2   3\n0  Запись пользователя № - user_919  [2019-01-01 14:06:51 NaN NaN",
      "text/html": "<div>\n<style scoped>\n    .dataframe tbody tr th:only-of-type {\n        vertical-align: middle;\n    }\n\n    .dataframe tbody tr th {\n        vertical-align: top;\n    }\n\n    .dataframe thead th {\n        text-align: right;\n    }\n</style>\n<table border=\"1\" class=\"dataframe\">\n  <thead>\n    <tr style=\"text-align: right;\">\n      <th></th>\n      <th>0</th>\n      <th>1</th>\n      <th>2</th>\n      <th>3</th>\n    </tr>\n  </thead>\n  <tbody>\n    <tr>\n      <th>0</th>\n      <td>Запись пользователя № - user_919</td>\n      <td>[2019-01-01 14:06:51</td>\n      <td>NaN</td>\n      <td>NaN</td>\n    </tr>\n  </tbody>\n</table>\n</div>"
     },
     "metadata": {}
    }
   ],
   "metadata": {}
  },
  {
   "cell_type": "markdown",
   "source": [
    "### read_csv - Параметры\n",
    "### Параметры\n",
    "### header=None - Загрузить без строки с заголовком\n",
    "### skiprows=n - пропустить n строк\n",
    "### na_values - список значений, который нужно заменить на NaN"
   ],
   "metadata": {}
  },
  {
   "cell_type": "markdown",
   "source": [
    "## 8.5 Колонки"
   ],
   "metadata": {}
  },
  {
   "cell_type": "code",
   "execution_count": 55,
   "source": [
    "column = pd.read_csv('./file/sample.csv',na_values=0)\n",
    "display(column.columns)\n",
    "column.columns = ['name','city','age','profession']\n",
    "display(column.columns)\n",
    "display(column)\n",
    "\n",
    "log.columns = ['user_id','time','bet','win']\n",
    "display(log.head(1))"
   ],
   "outputs": [
    {
     "output_type": "display_data",
     "data": {
      "text/plain": "Index(['Name', 'City', 'Age', 'Profession'], dtype='object')"
     },
     "metadata": {}
    },
    {
     "output_type": "display_data",
     "data": {
      "text/plain": "Index(['name', 'city', 'age', 'profession'], dtype='object')"
     },
     "metadata": {}
    },
    {
     "output_type": "display_data",
     "data": {
      "text/plain": "            name         city  age profession\n0         Иванов       Москва   25     Клинер\n1            NaN    Волгоград   31   Менеджер\n2         Иванов       Москва   25     Клинер\n3        sidorov  Владивосток   43   Менеджер\n4        _______        Курск   50   Водитель\n5       Кузнецов         Сочи   19    Рабочий\n6          Сажин       Сургут   29    Рабочий\n7   Котлеревский   Йошкар-Ола   32    Рабочий\n8     Завалишина    Чебоксары   36   Менеджер\n9         Левина          NaN   55    Рабочий\n10          Фикс         Рига   42    Рабочий",
      "text/html": "<div>\n<style scoped>\n    .dataframe tbody tr th:only-of-type {\n        vertical-align: middle;\n    }\n\n    .dataframe tbody tr th {\n        vertical-align: top;\n    }\n\n    .dataframe thead th {\n        text-align: right;\n    }\n</style>\n<table border=\"1\" class=\"dataframe\">\n  <thead>\n    <tr style=\"text-align: right;\">\n      <th></th>\n      <th>name</th>\n      <th>city</th>\n      <th>age</th>\n      <th>profession</th>\n    </tr>\n  </thead>\n  <tbody>\n    <tr>\n      <th>0</th>\n      <td>Иванов</td>\n      <td>Москва</td>\n      <td>25</td>\n      <td>Клинер</td>\n    </tr>\n    <tr>\n      <th>1</th>\n      <td>NaN</td>\n      <td>Волгоград</td>\n      <td>31</td>\n      <td>Менеджер</td>\n    </tr>\n    <tr>\n      <th>2</th>\n      <td>Иванов</td>\n      <td>Москва</td>\n      <td>25</td>\n      <td>Клинер</td>\n    </tr>\n    <tr>\n      <th>3</th>\n      <td>sidorov</td>\n      <td>Владивосток</td>\n      <td>43</td>\n      <td>Менеджер</td>\n    </tr>\n    <tr>\n      <th>4</th>\n      <td>_______</td>\n      <td>Курск</td>\n      <td>50</td>\n      <td>Водитель</td>\n    </tr>\n    <tr>\n      <th>5</th>\n      <td>Кузнецов</td>\n      <td>Сочи</td>\n      <td>19</td>\n      <td>Рабочий</td>\n    </tr>\n    <tr>\n      <th>6</th>\n      <td>Сажин</td>\n      <td>Сургут</td>\n      <td>29</td>\n      <td>Рабочий</td>\n    </tr>\n    <tr>\n      <th>7</th>\n      <td>Котлеревский</td>\n      <td>Йошкар-Ола</td>\n      <td>32</td>\n      <td>Рабочий</td>\n    </tr>\n    <tr>\n      <th>8</th>\n      <td>Завалишина</td>\n      <td>Чебоксары</td>\n      <td>36</td>\n      <td>Менеджер</td>\n    </tr>\n    <tr>\n      <th>9</th>\n      <td>Левина</td>\n      <td>NaN</td>\n      <td>55</td>\n      <td>Рабочий</td>\n    </tr>\n    <tr>\n      <th>10</th>\n      <td>Фикс</td>\n      <td>Рига</td>\n      <td>42</td>\n      <td>Рабочий</td>\n    </tr>\n  </tbody>\n</table>\n</div>"
     },
     "metadata": {}
    },
    {
     "output_type": "display_data",
     "data": {
      "text/plain": "                            user_id                  time  bet  win\n0  Запись пользователя № - user_919  [2019-01-01 14:06:51  NaN  NaN",
      "text/html": "<div>\n<style scoped>\n    .dataframe tbody tr th:only-of-type {\n        vertical-align: middle;\n    }\n\n    .dataframe tbody tr th {\n        vertical-align: top;\n    }\n\n    .dataframe thead th {\n        text-align: right;\n    }\n</style>\n<table border=\"1\" class=\"dataframe\">\n  <thead>\n    <tr style=\"text-align: right;\">\n      <th></th>\n      <th>user_id</th>\n      <th>time</th>\n      <th>bet</th>\n      <th>win</th>\n    </tr>\n  </thead>\n  <tbody>\n    <tr>\n      <th>0</th>\n      <td>Запись пользователя № - user_919</td>\n      <td>[2019-01-01 14:06:51</td>\n      <td>NaN</td>\n      <td>NaN</td>\n    </tr>\n  </tbody>\n</table>\n</div>"
     },
     "metadata": {}
    }
   ],
   "metadata": {}
  },
  {
   "cell_type": "code",
   "execution_count": 20,
   "source": [
    "users = pd.read_csv('./file/users.csv',sep='\\t',encoding='koi8_r')\r\n",
    "users.columns = ['user_id','email','geo']\r\n",
    "\r\n",
    "display(users.head())"
   ],
   "outputs": [
    {
     "output_type": "display_data",
     "data": {
      "text/plain": "    user_id                email        geo\n0  User_943  Accumanst@gmail.com     Ижевск\n1  User_908    Advismowr@mail.ru     Ижевск\n2  User_962      Anachso@ukr.net  Краснодар\n3  User_973     Antecia@inbox.ru      Пермь\n4  User_902   Balliaryva@ukr.net        NaN",
      "text/html": "<div>\n<style scoped>\n    .dataframe tbody tr th:only-of-type {\n        vertical-align: middle;\n    }\n\n    .dataframe tbody tr th {\n        vertical-align: top;\n    }\n\n    .dataframe thead th {\n        text-align: right;\n    }\n</style>\n<table border=\"1\" class=\"dataframe\">\n  <thead>\n    <tr style=\"text-align: right;\">\n      <th></th>\n      <th>user_id</th>\n      <th>email</th>\n      <th>geo</th>\n    </tr>\n  </thead>\n  <tbody>\n    <tr>\n      <th>0</th>\n      <td>User_943</td>\n      <td>Accumanst@gmail.com</td>\n      <td>Ижевск</td>\n    </tr>\n    <tr>\n      <th>1</th>\n      <td>User_908</td>\n      <td>Advismowr@mail.ru</td>\n      <td>Ижевск</td>\n    </tr>\n    <tr>\n      <th>2</th>\n      <td>User_962</td>\n      <td>Anachso@ukr.net</td>\n      <td>Краснодар</td>\n    </tr>\n    <tr>\n      <th>3</th>\n      <td>User_973</td>\n      <td>Antecia@inbox.ru</td>\n      <td>Пермь</td>\n    </tr>\n    <tr>\n      <th>4</th>\n      <td>User_902</td>\n      <td>Balliaryva@ukr.net</td>\n      <td>NaN</td>\n    </tr>\n  </tbody>\n</table>\n</div>"
     },
     "metadata": {}
    }
   ],
   "metadata": {}
  },
  {
   "cell_type": "markdown",
   "source": [
    "## 8.7 Очистка данных"
   ],
   "metadata": {}
  },
  {
   "cell_type": "code",
   "execution_count": 21,
   "source": [
    "#display(column.info())\r\n",
    "#display(log.user_id.unique())"
   ],
   "outputs": [],
   "metadata": {}
  },
  {
   "cell_type": "markdown",
   "source": [
    "## 8.8 Простая фильтрация"
   ],
   "metadata": {}
  },
  {
   "cell_type": "code",
   "execution_count": 22,
   "source": [
    "#display(log[log.user_id != '#error'])\r\n",
    "display(log[log.win > 0].head())\r\n",
    "display(log[log.win > 0].win.count())"
   ],
   "outputs": [
    {
     "output_type": "display_data",
     "data": {
      "text/plain": "                              user_id                  time        bet  \\\n14   Запись пользователя № - user_917   [2019-01-02 8:57:36   145732.0   \n29   Запись пользователя № - user_942  [2019-01-04 13:59:42  1678321.0   \n151  Запись пользователя № - user_982  [2019-01-16 21:54:22      100.0   \n189  Запись пользователя № - user_964  [2019-01-21 18:34:44      200.0   \n205  Запись пользователя № - user_931   [2019-01-22 5:26:59      300.0   \n\n           win  \n14   1987653.0  \n29   9876543.0  \n151     4749.0  \n189     4667.0  \n205     4319.0  ",
      "text/html": "<div>\n<style scoped>\n    .dataframe tbody tr th:only-of-type {\n        vertical-align: middle;\n    }\n\n    .dataframe tbody tr th {\n        vertical-align: top;\n    }\n\n    .dataframe thead th {\n        text-align: right;\n    }\n</style>\n<table border=\"1\" class=\"dataframe\">\n  <thead>\n    <tr style=\"text-align: right;\">\n      <th></th>\n      <th>user_id</th>\n      <th>time</th>\n      <th>bet</th>\n      <th>win</th>\n    </tr>\n  </thead>\n  <tbody>\n    <tr>\n      <th>14</th>\n      <td>Запись пользователя № - user_917</td>\n      <td>[2019-01-02 8:57:36</td>\n      <td>145732.0</td>\n      <td>1987653.0</td>\n    </tr>\n    <tr>\n      <th>29</th>\n      <td>Запись пользователя № - user_942</td>\n      <td>[2019-01-04 13:59:42</td>\n      <td>1678321.0</td>\n      <td>9876543.0</td>\n    </tr>\n    <tr>\n      <th>151</th>\n      <td>Запись пользователя № - user_982</td>\n      <td>[2019-01-16 21:54:22</td>\n      <td>100.0</td>\n      <td>4749.0</td>\n    </tr>\n    <tr>\n      <th>189</th>\n      <td>Запись пользователя № - user_964</td>\n      <td>[2019-01-21 18:34:44</td>\n      <td>200.0</td>\n      <td>4667.0</td>\n    </tr>\n    <tr>\n      <th>205</th>\n      <td>Запись пользователя № - user_931</td>\n      <td>[2019-01-22 5:26:59</td>\n      <td>300.0</td>\n      <td>4319.0</td>\n    </tr>\n  </tbody>\n</table>\n</div>"
     },
     "metadata": {}
    },
    {
     "output_type": "display_data",
     "data": {
      "text/plain": "138"
     },
     "metadata": {}
    }
   ],
   "metadata": {}
  },
  {
   "cell_type": "markdown",
   "source": [
    "## 8.9 Функция query"
   ],
   "metadata": {}
  },
  {
   "cell_type": "code",
   "execution_count": 23,
   "source": [
    "display(log.query('bet < 2000 & win > 0'))"
   ],
   "outputs": [
    {
     "output_type": "display_data",
     "data": {
      "text/plain": "                              user_id                  time     bet     win\n151  Запись пользователя № - user_982  [2019-01-16 21:54:22   100.0  4749.0\n189  Запись пользователя № - user_964  [2019-01-21 18:34:44   200.0  4667.0\n205  Запись пользователя № - user_931   [2019-01-22 5:26:59   300.0  4319.0\n232  Запись пользователя № - user_998   [2019-01-25 8:57:20   500.0  5069.0\n265  Запись пользователя № - user_998  [2019-01-29 10:37:55   500.0  6294.0\n..                                ...                   ...     ...     ...\n962  Запись пользователя № - user_976  [2019-04-19 14:18:45   400.0  5997.0\n965  Запись пользователя № - user_900  [2019-04-19 19:31:48   900.0  6767.0\n967  Запись пользователя № - user_975  [2019-04-19 22:25:15  1000.0  6108.0\n981                            #error                   NaN   800.0  7035.0\n991  Запись пользователя № - user_965  [2019-04-20 12:55:41   800.0  6927.0\n\n[113 rows x 4 columns]",
      "text/html": "<div>\n<style scoped>\n    .dataframe tbody tr th:only-of-type {\n        vertical-align: middle;\n    }\n\n    .dataframe tbody tr th {\n        vertical-align: top;\n    }\n\n    .dataframe thead th {\n        text-align: right;\n    }\n</style>\n<table border=\"1\" class=\"dataframe\">\n  <thead>\n    <tr style=\"text-align: right;\">\n      <th></th>\n      <th>user_id</th>\n      <th>time</th>\n      <th>bet</th>\n      <th>win</th>\n    </tr>\n  </thead>\n  <tbody>\n    <tr>\n      <th>151</th>\n      <td>Запись пользователя № - user_982</td>\n      <td>[2019-01-16 21:54:22</td>\n      <td>100.0</td>\n      <td>4749.0</td>\n    </tr>\n    <tr>\n      <th>189</th>\n      <td>Запись пользователя № - user_964</td>\n      <td>[2019-01-21 18:34:44</td>\n      <td>200.0</td>\n      <td>4667.0</td>\n    </tr>\n    <tr>\n      <th>205</th>\n      <td>Запись пользователя № - user_931</td>\n      <td>[2019-01-22 5:26:59</td>\n      <td>300.0</td>\n      <td>4319.0</td>\n    </tr>\n    <tr>\n      <th>232</th>\n      <td>Запись пользователя № - user_998</td>\n      <td>[2019-01-25 8:57:20</td>\n      <td>500.0</td>\n      <td>5069.0</td>\n    </tr>\n    <tr>\n      <th>265</th>\n      <td>Запись пользователя № - user_998</td>\n      <td>[2019-01-29 10:37:55</td>\n      <td>500.0</td>\n      <td>6294.0</td>\n    </tr>\n    <tr>\n      <th>...</th>\n      <td>...</td>\n      <td>...</td>\n      <td>...</td>\n      <td>...</td>\n    </tr>\n    <tr>\n      <th>962</th>\n      <td>Запись пользователя № - user_976</td>\n      <td>[2019-04-19 14:18:45</td>\n      <td>400.0</td>\n      <td>5997.0</td>\n    </tr>\n    <tr>\n      <th>965</th>\n      <td>Запись пользователя № - user_900</td>\n      <td>[2019-04-19 19:31:48</td>\n      <td>900.0</td>\n      <td>6767.0</td>\n    </tr>\n    <tr>\n      <th>967</th>\n      <td>Запись пользователя № - user_975</td>\n      <td>[2019-04-19 22:25:15</td>\n      <td>1000.0</td>\n      <td>6108.0</td>\n    </tr>\n    <tr>\n      <th>981</th>\n      <td>#error</td>\n      <td>NaN</td>\n      <td>800.0</td>\n      <td>7035.0</td>\n    </tr>\n    <tr>\n      <th>991</th>\n      <td>Запись пользователя № - user_965</td>\n      <td>[2019-04-20 12:55:41</td>\n      <td>800.0</td>\n      <td>6927.0</td>\n    </tr>\n  </tbody>\n</table>\n<p>113 rows × 4 columns</p>\n</div>"
     },
     "metadata": {}
    }
   ],
   "metadata": {}
  },
  {
   "cell_type": "markdown",
   "source": [
    "## 8.10 Функция str.match и srt.contains\n",
    "\n",
    "**str.match('abc')** - ищет строки, которые начинаются с abc  \n",
    "**srt.contain('abc')** - ищет строки, в которых есть abc"
   ],
   "metadata": {}
  },
  {
   "cell_type": "code",
   "execution_count": 24,
   "source": [
    "log_new = log[~log.user_id.str.match(\"#error\")]\r\n",
    "display(log_new)\r\n",
    "display(log.user_id.str.match(\"#error\"))"
   ],
   "outputs": [
    {
     "output_type": "display_data",
     "data": {
      "text/plain": "                              user_id                  time      bet     win\n0    Запись пользователя № - user_919  [2019-01-01 14:06:51      NaN     NaN\n1    Запись пользователя № - user_973  [2019-01-01 14:51:16      NaN     NaN\n2    Запись пользователя № - user_903  [2019-01-01 16:31:16      NaN     NaN\n3    Запись пользователя № - user_954  [2019-01-01 17:17:51      NaN     NaN\n4    Запись пользователя № - user_954  [2019-01-01 21:31:18      NaN     NaN\n..                                ...                   ...      ...     ...\n991  Запись пользователя № - user_965  [2019-04-20 12:55:41    800.0  6927.0\n992  Запись пользователя № - user_967  [2019-04-20 14:59:36  10154.0     NaN\n993  Запись пользователя № - user_973  [2019-04-20 17:09:56  10254.0     NaN\n994  Запись пользователя № - user_977  [2019-04-20 18:10:07  10354.0     NaN\n995  Запись пользователя № - user_984   [2019-04-20 9:59:58   9754.0     NaN\n\n[985 rows x 4 columns]",
      "text/html": "<div>\n<style scoped>\n    .dataframe tbody tr th:only-of-type {\n        vertical-align: middle;\n    }\n\n    .dataframe tbody tr th {\n        vertical-align: top;\n    }\n\n    .dataframe thead th {\n        text-align: right;\n    }\n</style>\n<table border=\"1\" class=\"dataframe\">\n  <thead>\n    <tr style=\"text-align: right;\">\n      <th></th>\n      <th>user_id</th>\n      <th>time</th>\n      <th>bet</th>\n      <th>win</th>\n    </tr>\n  </thead>\n  <tbody>\n    <tr>\n      <th>0</th>\n      <td>Запись пользователя № - user_919</td>\n      <td>[2019-01-01 14:06:51</td>\n      <td>NaN</td>\n      <td>NaN</td>\n    </tr>\n    <tr>\n      <th>1</th>\n      <td>Запись пользователя № - user_973</td>\n      <td>[2019-01-01 14:51:16</td>\n      <td>NaN</td>\n      <td>NaN</td>\n    </tr>\n    <tr>\n      <th>2</th>\n      <td>Запись пользователя № - user_903</td>\n      <td>[2019-01-01 16:31:16</td>\n      <td>NaN</td>\n      <td>NaN</td>\n    </tr>\n    <tr>\n      <th>3</th>\n      <td>Запись пользователя № - user_954</td>\n      <td>[2019-01-01 17:17:51</td>\n      <td>NaN</td>\n      <td>NaN</td>\n    </tr>\n    <tr>\n      <th>4</th>\n      <td>Запись пользователя № - user_954</td>\n      <td>[2019-01-01 21:31:18</td>\n      <td>NaN</td>\n      <td>NaN</td>\n    </tr>\n    <tr>\n      <th>...</th>\n      <td>...</td>\n      <td>...</td>\n      <td>...</td>\n      <td>...</td>\n    </tr>\n    <tr>\n      <th>991</th>\n      <td>Запись пользователя № - user_965</td>\n      <td>[2019-04-20 12:55:41</td>\n      <td>800.0</td>\n      <td>6927.0</td>\n    </tr>\n    <tr>\n      <th>992</th>\n      <td>Запись пользователя № - user_967</td>\n      <td>[2019-04-20 14:59:36</td>\n      <td>10154.0</td>\n      <td>NaN</td>\n    </tr>\n    <tr>\n      <th>993</th>\n      <td>Запись пользователя № - user_973</td>\n      <td>[2019-04-20 17:09:56</td>\n      <td>10254.0</td>\n      <td>NaN</td>\n    </tr>\n    <tr>\n      <th>994</th>\n      <td>Запись пользователя № - user_977</td>\n      <td>[2019-04-20 18:10:07</td>\n      <td>10354.0</td>\n      <td>NaN</td>\n    </tr>\n    <tr>\n      <th>995</th>\n      <td>Запись пользователя № - user_984</td>\n      <td>[2019-04-20 9:59:58</td>\n      <td>9754.0</td>\n      <td>NaN</td>\n    </tr>\n  </tbody>\n</table>\n<p>985 rows × 4 columns</p>\n</div>"
     },
     "metadata": {}
    },
    {
     "output_type": "display_data",
     "data": {
      "text/plain": "0      False\n1      False\n2      False\n3      False\n4      False\n       ...  \n995    False\n996     True\n997     True\n998     True\n999     True\nName: user_id, Length: 1000, dtype: bool"
     },
     "metadata": {}
    }
   ],
   "metadata": {}
  },
  {
   "cell_type": "markdown",
   "source": [
    "8.11 Преобразование данных\n",
    "--------\n",
    "**функция apply** - df.column_name.apply(func) - func - лямбда-функции, обычные именные функции def"
   ],
   "metadata": {}
  },
  {
   "cell_type": "code",
   "execution_count": 25,
   "source": [
    "#display(column.age.apply(lambda x:x**2))\r\n",
    "\r\n",
    "def func(x):\r\n",
    "    if x < 20:\r\n",
    "        return x\r\n",
    "    else:\r\n",
    "        return 0\r\n",
    "\r\n",
    "column.age.update(column['age'].apply(lambda y:y+1))\r\n",
    "#display(column)\r\n",
    "\r\n",
    "column.city.update(column.city.apply(lambda word:str(word).lower()))\r\n",
    "#display(column)"
   ],
   "outputs": [],
   "metadata": {}
  },
  {
   "cell_type": "markdown",
   "source": [
    "## Задание 3"
   ],
   "metadata": {}
  },
  {
   "cell_type": "code",
   "execution_count": 26,
   "source": [
    "def profession_code(s):\r\n",
    "    if s == \"Рабочий\":\r\n",
    "        return 0\r\n",
    "    if s == \"Менеджер\":\r\n",
    "        return 1\r\n",
    "\r\n",
    "    return 2\r\n"
   ],
   "outputs": [],
   "metadata": {}
  },
  {
   "cell_type": "markdown",
   "source": [
    "## Задание 4"
   ],
   "metadata": {}
  },
  {
   "cell_type": "code",
   "execution_count": 33,
   "source": [
    "column = pd.read_csv('./file/sample.csv')\n",
    "column.columns = ['name','city','age','profession']\n",
    "column.profession = column.profession.apply(profession_code)\n",
    "#column.profession.update(column.profession.apply(profession_code))\n",
    "column2 = column\n",
    "display(column2)"
   ],
   "outputs": [
    {
     "output_type": "display_data",
     "data": {
      "text/plain": "            name         city  age  profession\n0         Иванов       Москва   25           2\n1            NaN    Волгоград   31           1\n2         Иванов       Москва   25           2\n3        sidorov  Владивосток   43           1\n4        _______        Курск   50           2\n5       Кузнецов         Сочи   19           0\n6          Сажин       Сургут   29           0\n7   Котлеревский   Йошкар-Ола   32           0\n8     Завалишина    Чебоксары   36           1\n9         Левина          NaN   55           0\n10          Фикс         Рига   42           0",
      "text/html": "<div>\n<style scoped>\n    .dataframe tbody tr th:only-of-type {\n        vertical-align: middle;\n    }\n\n    .dataframe tbody tr th {\n        vertical-align: top;\n    }\n\n    .dataframe thead th {\n        text-align: right;\n    }\n</style>\n<table border=\"1\" class=\"dataframe\">\n  <thead>\n    <tr style=\"text-align: right;\">\n      <th></th>\n      <th>name</th>\n      <th>city</th>\n      <th>age</th>\n      <th>profession</th>\n    </tr>\n  </thead>\n  <tbody>\n    <tr>\n      <th>0</th>\n      <td>Иванов</td>\n      <td>Москва</td>\n      <td>25</td>\n      <td>2</td>\n    </tr>\n    <tr>\n      <th>1</th>\n      <td>NaN</td>\n      <td>Волгоград</td>\n      <td>31</td>\n      <td>1</td>\n    </tr>\n    <tr>\n      <th>2</th>\n      <td>Иванов</td>\n      <td>Москва</td>\n      <td>25</td>\n      <td>2</td>\n    </tr>\n    <tr>\n      <th>3</th>\n      <td>sidorov</td>\n      <td>Владивосток</td>\n      <td>43</td>\n      <td>1</td>\n    </tr>\n    <tr>\n      <th>4</th>\n      <td>_______</td>\n      <td>Курск</td>\n      <td>50</td>\n      <td>2</td>\n    </tr>\n    <tr>\n      <th>5</th>\n      <td>Кузнецов</td>\n      <td>Сочи</td>\n      <td>19</td>\n      <td>0</td>\n    </tr>\n    <tr>\n      <th>6</th>\n      <td>Сажин</td>\n      <td>Сургут</td>\n      <td>29</td>\n      <td>0</td>\n    </tr>\n    <tr>\n      <th>7</th>\n      <td>Котлеревский</td>\n      <td>Йошкар-Ола</td>\n      <td>32</td>\n      <td>0</td>\n    </tr>\n    <tr>\n      <th>8</th>\n      <td>Завалишина</td>\n      <td>Чебоксары</td>\n      <td>36</td>\n      <td>1</td>\n    </tr>\n    <tr>\n      <th>9</th>\n      <td>Левина</td>\n      <td>NaN</td>\n      <td>55</td>\n      <td>0</td>\n    </tr>\n    <tr>\n      <th>10</th>\n      <td>Фикс</td>\n      <td>Рига</td>\n      <td>42</td>\n      <td>0</td>\n    </tr>\n  </tbody>\n</table>\n</div>"
     },
     "metadata": {}
    }
   ],
   "metadata": {}
  },
  {
   "cell_type": "markdown",
   "source": [
    "## Задание 5"
   ],
   "metadata": {}
  },
  {
   "cell_type": "code",
   "execution_count": 28,
   "source": [
    "def age_category(age):\r\n",
    "    if age < 23:\r\n",
    "        return \"молодой\"\r\n",
    "    if age >=23 and age <=35:\r\n",
    "        return \"средний\"\r\n",
    "    if age > 35:\r\n",
    "        return \"зрелый\""
   ],
   "outputs": [],
   "metadata": {}
  },
  {
   "cell_type": "markdown",
   "source": [
    "## Задание 6"
   ],
   "metadata": {}
  },
  {
   "cell_type": "code",
   "execution_count": 29,
   "source": [
    "column['age_category'] = column.age.apply(age_category)\r\n",
    "display(column)"
   ],
   "outputs": [
    {
     "output_type": "display_data",
     "data": {
      "text/plain": "            name         city  age profession age_category\n0         Иванов       Москва   25          2      средний\n1            NaN    Волгоград   31          1      средний\n2         Иванов       Москва   25          2      средний\n3        sidorov  Владивосток   43          1       зрелый\n4        _______        Курск   50          2       зрелый\n5       Кузнецов         Сочи   19          0      молодой\n6          Сажин       Сургут   29          0      средний\n7   Котлеревский   Йошкар-Ола   32          0      средний\n8     Завалишина    Чебоксары   36          1       зрелый\n9         Левина          NaN   55          0       зрелый\n10          Фикс         Рига   42          0       зрелый",
      "text/html": "<div>\n<style scoped>\n    .dataframe tbody tr th:only-of-type {\n        vertical-align: middle;\n    }\n\n    .dataframe tbody tr th {\n        vertical-align: top;\n    }\n\n    .dataframe thead th {\n        text-align: right;\n    }\n</style>\n<table border=\"1\" class=\"dataframe\">\n  <thead>\n    <tr style=\"text-align: right;\">\n      <th></th>\n      <th>name</th>\n      <th>city</th>\n      <th>age</th>\n      <th>profession</th>\n      <th>age_category</th>\n    </tr>\n  </thead>\n  <tbody>\n    <tr>\n      <th>0</th>\n      <td>Иванов</td>\n      <td>Москва</td>\n      <td>25</td>\n      <td>2</td>\n      <td>средний</td>\n    </tr>\n    <tr>\n      <th>1</th>\n      <td>NaN</td>\n      <td>Волгоград</td>\n      <td>31</td>\n      <td>1</td>\n      <td>средний</td>\n    </tr>\n    <tr>\n      <th>2</th>\n      <td>Иванов</td>\n      <td>Москва</td>\n      <td>25</td>\n      <td>2</td>\n      <td>средний</td>\n    </tr>\n    <tr>\n      <th>3</th>\n      <td>sidorov</td>\n      <td>Владивосток</td>\n      <td>43</td>\n      <td>1</td>\n      <td>зрелый</td>\n    </tr>\n    <tr>\n      <th>4</th>\n      <td>_______</td>\n      <td>Курск</td>\n      <td>50</td>\n      <td>2</td>\n      <td>зрелый</td>\n    </tr>\n    <tr>\n      <th>5</th>\n      <td>Кузнецов</td>\n      <td>Сочи</td>\n      <td>19</td>\n      <td>0</td>\n      <td>молодой</td>\n    </tr>\n    <tr>\n      <th>6</th>\n      <td>Сажин</td>\n      <td>Сургут</td>\n      <td>29</td>\n      <td>0</td>\n      <td>средний</td>\n    </tr>\n    <tr>\n      <th>7</th>\n      <td>Котлеревский</td>\n      <td>Йошкар-Ола</td>\n      <td>32</td>\n      <td>0</td>\n      <td>средний</td>\n    </tr>\n    <tr>\n      <th>8</th>\n      <td>Завалишина</td>\n      <td>Чебоксары</td>\n      <td>36</td>\n      <td>1</td>\n      <td>зрелый</td>\n    </tr>\n    <tr>\n      <th>9</th>\n      <td>Левина</td>\n      <td>NaN</td>\n      <td>55</td>\n      <td>0</td>\n      <td>зрелый</td>\n    </tr>\n    <tr>\n      <th>10</th>\n      <td>Фикс</td>\n      <td>Рига</td>\n      <td>42</td>\n      <td>0</td>\n      <td>зрелый</td>\n    </tr>\n  </tbody>\n</table>\n</div>"
     },
     "metadata": {}
    }
   ],
   "metadata": {}
  },
  {
   "cell_type": "markdown",
   "source": [
    "## Задание 7"
   ],
   "metadata": {}
  },
  {
   "cell_type": "code",
   "execution_count": 30,
   "source": [
    "def replaceUserId(user_id):\r\n",
    "    if user_id == \"#error\":\r\n",
    "        return ''\r\n",
    "    else:\r\n",
    "        return user_id.replace('Запись пользователя № - ','')\r\n",
    "\r\n",
    "log.user_id.update(log.user_id.apply(replaceUserId))\r\n",
    "display(log)"
   ],
   "outputs": [
    {
     "output_type": "display_data",
     "data": {
      "text/plain": "      user_id                  time      bet      win\n0    user_919  [2019-01-01 14:06:51      NaN      NaN\n1    user_973  [2019-01-01 14:51:16      NaN      NaN\n2    user_903  [2019-01-01 16:31:16      NaN      NaN\n3    user_954  [2019-01-01 17:17:51      NaN      NaN\n4    user_954  [2019-01-01 21:31:18      NaN      NaN\n..        ...                   ...      ...      ...\n995  user_984   [2019-04-20 9:59:58   9754.0      NaN\n996                             NaN  10054.0  29265.0\n997                             NaN  10454.0      NaN\n998                             NaN   1000.0      NaN\n999                             NaN  10754.0      NaN\n\n[1000 rows x 4 columns]",
      "text/html": "<div>\n<style scoped>\n    .dataframe tbody tr th:only-of-type {\n        vertical-align: middle;\n    }\n\n    .dataframe tbody tr th {\n        vertical-align: top;\n    }\n\n    .dataframe thead th {\n        text-align: right;\n    }\n</style>\n<table border=\"1\" class=\"dataframe\">\n  <thead>\n    <tr style=\"text-align: right;\">\n      <th></th>\n      <th>user_id</th>\n      <th>time</th>\n      <th>bet</th>\n      <th>win</th>\n    </tr>\n  </thead>\n  <tbody>\n    <tr>\n      <th>0</th>\n      <td>user_919</td>\n      <td>[2019-01-01 14:06:51</td>\n      <td>NaN</td>\n      <td>NaN</td>\n    </tr>\n    <tr>\n      <th>1</th>\n      <td>user_973</td>\n      <td>[2019-01-01 14:51:16</td>\n      <td>NaN</td>\n      <td>NaN</td>\n    </tr>\n    <tr>\n      <th>2</th>\n      <td>user_903</td>\n      <td>[2019-01-01 16:31:16</td>\n      <td>NaN</td>\n      <td>NaN</td>\n    </tr>\n    <tr>\n      <th>3</th>\n      <td>user_954</td>\n      <td>[2019-01-01 17:17:51</td>\n      <td>NaN</td>\n      <td>NaN</td>\n    </tr>\n    <tr>\n      <th>4</th>\n      <td>user_954</td>\n      <td>[2019-01-01 21:31:18</td>\n      <td>NaN</td>\n      <td>NaN</td>\n    </tr>\n    <tr>\n      <th>...</th>\n      <td>...</td>\n      <td>...</td>\n      <td>...</td>\n      <td>...</td>\n    </tr>\n    <tr>\n      <th>995</th>\n      <td>user_984</td>\n      <td>[2019-04-20 9:59:58</td>\n      <td>9754.0</td>\n      <td>NaN</td>\n    </tr>\n    <tr>\n      <th>996</th>\n      <td></td>\n      <td>NaN</td>\n      <td>10054.0</td>\n      <td>29265.0</td>\n    </tr>\n    <tr>\n      <th>997</th>\n      <td></td>\n      <td>NaN</td>\n      <td>10454.0</td>\n      <td>NaN</td>\n    </tr>\n    <tr>\n      <th>998</th>\n      <td></td>\n      <td>NaN</td>\n      <td>1000.0</td>\n      <td>NaN</td>\n    </tr>\n    <tr>\n      <th>999</th>\n      <td></td>\n      <td>NaN</td>\n      <td>10754.0</td>\n      <td>NaN</td>\n    </tr>\n  </tbody>\n</table>\n<p>1000 rows × 4 columns</p>\n</div>"
     },
     "metadata": {}
    }
   ],
   "metadata": {}
  },
  {
   "cell_type": "markdown",
   "source": [
    "## Задание 8"
   ],
   "metadata": {}
  },
  {
   "cell_type": "code",
   "execution_count": 31,
   "source": [
    "t = log.time[0].replace('[','')\r\n",
    "display(t)"
   ],
   "outputs": [
    {
     "output_type": "display_data",
     "data": {
      "text/plain": "'2019-01-01 14:06:51'"
     },
     "metadata": {}
    }
   ],
   "metadata": {}
  },
  {
   "cell_type": "markdown",
   "source": [
    "## Задание 9"
   ],
   "metadata": {}
  },
  {
   "cell_type": "code",
   "execution_count": 37,
   "source": [
    "def editColumnTime(time):\n",
    "    return str(time).replace('[','')\n",
    "\n",
    "#log.time = log.time.apply(lambda edit:str(edit).replace('[',''))\n",
    "log.time = log.time.str.replace('[','')\n",
    "display(log)"
   ],
   "outputs": [
    {
     "output_type": "stream",
     "name": "stderr",
     "text": [
      "C:\\Users\\MURT~1.SOF\\AppData\\Local\\Temp/ipykernel_13700/1526160266.py:5: FutureWarning: The default value of regex will change from True to False in a future version. In addition, single character regular expressions will *not* be treated as literal strings when regex=True.\n  log.time = log.time.str.replace('[','')\n"
     ]
    },
    {
     "output_type": "display_data",
     "data": {
      "text/plain": "      user_id                 time      bet      win\n0    user_919  2019-01-01 14:06:51      NaN      NaN\n1    user_973  2019-01-01 14:51:16      NaN      NaN\n2    user_903  2019-01-01 16:31:16      NaN      NaN\n3    user_954  2019-01-01 17:17:51      NaN      NaN\n4    user_954  2019-01-01 21:31:18      NaN      NaN\n..        ...                  ...      ...      ...\n995  user_984   2019-04-20 9:59:58   9754.0      NaN\n996                            nan  10054.0  29265.0\n997                            nan  10454.0      NaN\n998                            nan   1000.0      NaN\n999                            nan  10754.0      NaN\n\n[1000 rows x 4 columns]",
      "text/html": "<div>\n<style scoped>\n    .dataframe tbody tr th:only-of-type {\n        vertical-align: middle;\n    }\n\n    .dataframe tbody tr th {\n        vertical-align: top;\n    }\n\n    .dataframe thead th {\n        text-align: right;\n    }\n</style>\n<table border=\"1\" class=\"dataframe\">\n  <thead>\n    <tr style=\"text-align: right;\">\n      <th></th>\n      <th>user_id</th>\n      <th>time</th>\n      <th>bet</th>\n      <th>win</th>\n    </tr>\n  </thead>\n  <tbody>\n    <tr>\n      <th>0</th>\n      <td>user_919</td>\n      <td>2019-01-01 14:06:51</td>\n      <td>NaN</td>\n      <td>NaN</td>\n    </tr>\n    <tr>\n      <th>1</th>\n      <td>user_973</td>\n      <td>2019-01-01 14:51:16</td>\n      <td>NaN</td>\n      <td>NaN</td>\n    </tr>\n    <tr>\n      <th>2</th>\n      <td>user_903</td>\n      <td>2019-01-01 16:31:16</td>\n      <td>NaN</td>\n      <td>NaN</td>\n    </tr>\n    <tr>\n      <th>3</th>\n      <td>user_954</td>\n      <td>2019-01-01 17:17:51</td>\n      <td>NaN</td>\n      <td>NaN</td>\n    </tr>\n    <tr>\n      <th>4</th>\n      <td>user_954</td>\n      <td>2019-01-01 21:31:18</td>\n      <td>NaN</td>\n      <td>NaN</td>\n    </tr>\n    <tr>\n      <th>...</th>\n      <td>...</td>\n      <td>...</td>\n      <td>...</td>\n      <td>...</td>\n    </tr>\n    <tr>\n      <th>995</th>\n      <td>user_984</td>\n      <td>2019-04-20 9:59:58</td>\n      <td>9754.0</td>\n      <td>NaN</td>\n    </tr>\n    <tr>\n      <th>996</th>\n      <td></td>\n      <td>nan</td>\n      <td>10054.0</td>\n      <td>29265.0</td>\n    </tr>\n    <tr>\n      <th>997</th>\n      <td></td>\n      <td>nan</td>\n      <td>10454.0</td>\n      <td>NaN</td>\n    </tr>\n    <tr>\n      <th>998</th>\n      <td></td>\n      <td>nan</td>\n      <td>1000.0</td>\n      <td>NaN</td>\n    </tr>\n    <tr>\n      <th>999</th>\n      <td></td>\n      <td>nan</td>\n      <td>10754.0</td>\n      <td>NaN</td>\n    </tr>\n  </tbody>\n</table>\n<p>1000 rows × 4 columns</p>\n</div>"
     },
     "metadata": {}
    }
   ],
   "metadata": {}
  },
  {
   "source": [
    "## 8.12 Финальное задание\n",
    "### Первое решение"
   ],
   "cell_type": "markdown",
   "metadata": {}
  },
  {
   "cell_type": "code",
   "execution_count": null,
   "source": [
    "log = pd.read_csv('./file/log.csv')\r\n",
    "log.columns = ['user_id','time','bet','win']\r\n",
    "log = log.drop(list(log[log.user_id == '#error'].index))\r\n",
    "log.user_id.update(log.user_id.apply(lambda edit:str(edit).replace('Запись пользователя № - ','')))\r\n",
    "log.time.update(log.time.apply(lambda edit:str(edit).replace('[','')))\r\n",
    "display(log)"
   ],
   "outputs": [
    {
     "output_type": "display_data",
     "data": {
      "text/plain": [
       "      user_id                 time       bet     win\n",
       "0    user_973  2019-01-01 14:51:16       NaN     NaN\n",
       "1    user_903  2019-01-01 16:31:16       NaN     NaN\n",
       "2    user_954  2019-01-01 17:17:51       NaN     NaN\n",
       "3    user_954  2019-01-01 21:31:18       NaN     NaN\n",
       "4    user_917  2019-01-01 23:34:55  156789.0     NaN\n",
       "..        ...                  ...       ...     ...\n",
       "990  user_965  2019-04-20 12:55:41     800.0  6927.0\n",
       "991  user_967  2019-04-20 14:59:36   10154.0     NaN\n",
       "992  user_973  2019-04-20 17:09:56   10254.0     NaN\n",
       "993  user_977  2019-04-20 18:10:07   10354.0     NaN\n",
       "994  user_984   2019-04-20 9:59:58    9754.0     NaN\n",
       "\n",
       "[984 rows x 4 columns]"
      ],
      "text/html": [
       "<div>\n",
       "<style scoped>\n",
       "    .dataframe tbody tr th:only-of-type {\n",
       "        vertical-align: middle;\n",
       "    }\n",
       "\n",
       "    .dataframe tbody tr th {\n",
       "        vertical-align: top;\n",
       "    }\n",
       "\n",
       "    .dataframe thead th {\n",
       "        text-align: right;\n",
       "    }\n",
       "</style>\n",
       "<table border=\"1\" class=\"dataframe\">\n",
       "  <thead>\n",
       "    <tr style=\"text-align: right;\">\n",
       "      <th></th>\n",
       "      <th>user_id</th>\n",
       "      <th>time</th>\n",
       "      <th>bet</th>\n",
       "      <th>win</th>\n",
       "    </tr>\n",
       "  </thead>\n",
       "  <tbody>\n",
       "    <tr>\n",
       "      <th>0</th>\n",
       "      <td>user_973</td>\n",
       "      <td>2019-01-01 14:51:16</td>\n",
       "      <td>NaN</td>\n",
       "      <td>NaN</td>\n",
       "    </tr>\n",
       "    <tr>\n",
       "      <th>1</th>\n",
       "      <td>user_903</td>\n",
       "      <td>2019-01-01 16:31:16</td>\n",
       "      <td>NaN</td>\n",
       "      <td>NaN</td>\n",
       "    </tr>\n",
       "    <tr>\n",
       "      <th>2</th>\n",
       "      <td>user_954</td>\n",
       "      <td>2019-01-01 17:17:51</td>\n",
       "      <td>NaN</td>\n",
       "      <td>NaN</td>\n",
       "    </tr>\n",
       "    <tr>\n",
       "      <th>3</th>\n",
       "      <td>user_954</td>\n",
       "      <td>2019-01-01 21:31:18</td>\n",
       "      <td>NaN</td>\n",
       "      <td>NaN</td>\n",
       "    </tr>\n",
       "    <tr>\n",
       "      <th>4</th>\n",
       "      <td>user_917</td>\n",
       "      <td>2019-01-01 23:34:55</td>\n",
       "      <td>156789.0</td>\n",
       "      <td>NaN</td>\n",
       "    </tr>\n",
       "    <tr>\n",
       "      <th>...</th>\n",
       "      <td>...</td>\n",
       "      <td>...</td>\n",
       "      <td>...</td>\n",
       "      <td>...</td>\n",
       "    </tr>\n",
       "    <tr>\n",
       "      <th>990</th>\n",
       "      <td>user_965</td>\n",
       "      <td>2019-04-20 12:55:41</td>\n",
       "      <td>800.0</td>\n",
       "      <td>6927.0</td>\n",
       "    </tr>\n",
       "    <tr>\n",
       "      <th>991</th>\n",
       "      <td>user_967</td>\n",
       "      <td>2019-04-20 14:59:36</td>\n",
       "      <td>10154.0</td>\n",
       "      <td>NaN</td>\n",
       "    </tr>\n",
       "    <tr>\n",
       "      <th>992</th>\n",
       "      <td>user_973</td>\n",
       "      <td>2019-04-20 17:09:56</td>\n",
       "      <td>10254.0</td>\n",
       "      <td>NaN</td>\n",
       "    </tr>\n",
       "    <tr>\n",
       "      <th>993</th>\n",
       "      <td>user_977</td>\n",
       "      <td>2019-04-20 18:10:07</td>\n",
       "      <td>10354.0</td>\n",
       "      <td>NaN</td>\n",
       "    </tr>\n",
       "    <tr>\n",
       "      <th>994</th>\n",
       "      <td>user_984</td>\n",
       "      <td>2019-04-20 9:59:58</td>\n",
       "      <td>9754.0</td>\n",
       "      <td>NaN</td>\n",
       "    </tr>\n",
       "  </tbody>\n",
       "</table>\n",
       "<p>984 rows × 4 columns</p>\n",
       "</div>"
      ]
     },
     "metadata": {}
    }
   ],
   "metadata": {}
  },
  {
   "source": [
    "### Второе решение"
   ],
   "cell_type": "markdown",
   "metadata": {}
  },
  {
   "cell_type": "code",
   "execution_count": 17,
   "source": [
    "log = pd.read_csv('./file/log.csv')\n",
    "log.columns = ['user_id','time','bet','win']\n",
    "#log = log[~log.user_id.str.match('#error')]\n",
    "#log[~log.user_id.str.match('#error')]\n",
    "log = log.drop(list(log[log.user_id == '#error'].index))\n",
    "#log.user_id = log.user_id.str.replace('Запись пользователя № - ','')\n",
    "#log.time = log.time.str.replace('[','')\n",
    "log.user_id.update(log.user_id.apply(lambda edit:str(edit).replace('Запись пользователя № - ','')))\n",
    "log.time.update(log.time.apply(lambda edit:str(edit).replace('[','')))\n",
    "display(log)"
   ],
   "outputs": [
    {
     "output_type": "display_data",
     "data": {
      "text/plain": "      user_id                 time       bet     win\n0    user_973  2019-01-01 14:51:16       NaN     NaN\n1    user_903  2019-01-01 16:31:16       NaN     NaN\n2    user_954  2019-01-01 17:17:51       NaN     NaN\n3    user_954  2019-01-01 21:31:18       NaN     NaN\n4    user_917  2019-01-01 23:34:55  156789.0     NaN\n..        ...                  ...       ...     ...\n990  user_965  2019-04-20 12:55:41     800.0  6927.0\n991  user_967  2019-04-20 14:59:36   10154.0     NaN\n992  user_973  2019-04-20 17:09:56   10254.0     NaN\n993  user_977  2019-04-20 18:10:07   10354.0     NaN\n994  user_984   2019-04-20 9:59:58    9754.0     NaN\n\n[984 rows x 4 columns]",
      "text/html": "<div>\n<style scoped>\n    .dataframe tbody tr th:only-of-type {\n        vertical-align: middle;\n    }\n\n    .dataframe tbody tr th {\n        vertical-align: top;\n    }\n\n    .dataframe thead th {\n        text-align: right;\n    }\n</style>\n<table border=\"1\" class=\"dataframe\">\n  <thead>\n    <tr style=\"text-align: right;\">\n      <th></th>\n      <th>user_id</th>\n      <th>time</th>\n      <th>bet</th>\n      <th>win</th>\n    </tr>\n  </thead>\n  <tbody>\n    <tr>\n      <th>0</th>\n      <td>user_973</td>\n      <td>2019-01-01 14:51:16</td>\n      <td>NaN</td>\n      <td>NaN</td>\n    </tr>\n    <tr>\n      <th>1</th>\n      <td>user_903</td>\n      <td>2019-01-01 16:31:16</td>\n      <td>NaN</td>\n      <td>NaN</td>\n    </tr>\n    <tr>\n      <th>2</th>\n      <td>user_954</td>\n      <td>2019-01-01 17:17:51</td>\n      <td>NaN</td>\n      <td>NaN</td>\n    </tr>\n    <tr>\n      <th>3</th>\n      <td>user_954</td>\n      <td>2019-01-01 21:31:18</td>\n      <td>NaN</td>\n      <td>NaN</td>\n    </tr>\n    <tr>\n      <th>4</th>\n      <td>user_917</td>\n      <td>2019-01-01 23:34:55</td>\n      <td>156789.0</td>\n      <td>NaN</td>\n    </tr>\n    <tr>\n      <th>...</th>\n      <td>...</td>\n      <td>...</td>\n      <td>...</td>\n      <td>...</td>\n    </tr>\n    <tr>\n      <th>990</th>\n      <td>user_965</td>\n      <td>2019-04-20 12:55:41</td>\n      <td>800.0</td>\n      <td>6927.0</td>\n    </tr>\n    <tr>\n      <th>991</th>\n      <td>user_967</td>\n      <td>2019-04-20 14:59:36</td>\n      <td>10154.0</td>\n      <td>NaN</td>\n    </tr>\n    <tr>\n      <th>992</th>\n      <td>user_973</td>\n      <td>2019-04-20 17:09:56</td>\n      <td>10254.0</td>\n      <td>NaN</td>\n    </tr>\n    <tr>\n      <th>993</th>\n      <td>user_977</td>\n      <td>2019-04-20 18:10:07</td>\n      <td>10354.0</td>\n      <td>NaN</td>\n    </tr>\n    <tr>\n      <th>994</th>\n      <td>user_984</td>\n      <td>2019-04-20 9:59:58</td>\n      <td>9754.0</td>\n      <td>NaN</td>\n    </tr>\n  </tbody>\n</table>\n<p>984 rows × 4 columns</p>\n</div>"
     },
     "metadata": {}
    }
   ],
   "metadata": {}
  },
  {
   "source": [
    "### Третье решение"
   ],
   "cell_type": "markdown",
   "metadata": {}
  },
  {
   "cell_type": "code",
   "execution_count": 62,
   "metadata": {},
   "outputs": [
    {
     "output_type": "stream",
     "name": "stderr",
     "text": [
      "C:\\Users\\MURT~1.SOF\\AppData\\Local\\Temp/ipykernel_13700/1054377036.py:7: FutureWarning: The default value of regex will change from True to False in a future version. In addition, single character regular expressions will *not* be treated as literal strings when regex=True.\n  log.time = log.time.str.replace('[','')\n"
     ]
    },
    {
     "output_type": "display_data",
     "data": {
      "text/plain": "      user_id                 time      bet     win\n0    user_919  2019-01-01 14:06:51      NaN     NaN\n1    user_973  2019-01-01 14:51:16      NaN     NaN\n2    user_903  2019-01-01 16:31:16      NaN     NaN\n3    user_954  2019-01-01 17:17:51      NaN     NaN\n4    user_954  2019-01-01 21:31:18      NaN     NaN\n..        ...                  ...      ...     ...\n991  user_965  2019-04-20 12:55:41    800.0  6927.0\n992  user_967  2019-04-20 14:59:36  10154.0     NaN\n993  user_973  2019-04-20 17:09:56  10254.0     NaN\n994  user_977  2019-04-20 18:10:07  10354.0     NaN\n995  user_984   2019-04-20 9:59:58   9754.0     NaN\n\n[985 rows x 4 columns]",
      "text/html": "<div>\n<style scoped>\n    .dataframe tbody tr th:only-of-type {\n        vertical-align: middle;\n    }\n\n    .dataframe tbody tr th {\n        vertical-align: top;\n    }\n\n    .dataframe thead th {\n        text-align: right;\n    }\n</style>\n<table border=\"1\" class=\"dataframe\">\n  <thead>\n    <tr style=\"text-align: right;\">\n      <th></th>\n      <th>user_id</th>\n      <th>time</th>\n      <th>bet</th>\n      <th>win</th>\n    </tr>\n  </thead>\n  <tbody>\n    <tr>\n      <th>0</th>\n      <td>user_919</td>\n      <td>2019-01-01 14:06:51</td>\n      <td>NaN</td>\n      <td>NaN</td>\n    </tr>\n    <tr>\n      <th>1</th>\n      <td>user_973</td>\n      <td>2019-01-01 14:51:16</td>\n      <td>NaN</td>\n      <td>NaN</td>\n    </tr>\n    <tr>\n      <th>2</th>\n      <td>user_903</td>\n      <td>2019-01-01 16:31:16</td>\n      <td>NaN</td>\n      <td>NaN</td>\n    </tr>\n    <tr>\n      <th>3</th>\n      <td>user_954</td>\n      <td>2019-01-01 17:17:51</td>\n      <td>NaN</td>\n      <td>NaN</td>\n    </tr>\n    <tr>\n      <th>4</th>\n      <td>user_954</td>\n      <td>2019-01-01 21:31:18</td>\n      <td>NaN</td>\n      <td>NaN</td>\n    </tr>\n    <tr>\n      <th>...</th>\n      <td>...</td>\n      <td>...</td>\n      <td>...</td>\n      <td>...</td>\n    </tr>\n    <tr>\n      <th>991</th>\n      <td>user_965</td>\n      <td>2019-04-20 12:55:41</td>\n      <td>800.0</td>\n      <td>6927.0</td>\n    </tr>\n    <tr>\n      <th>992</th>\n      <td>user_967</td>\n      <td>2019-04-20 14:59:36</td>\n      <td>10154.0</td>\n      <td>NaN</td>\n    </tr>\n    <tr>\n      <th>993</th>\n      <td>user_973</td>\n      <td>2019-04-20 17:09:56</td>\n      <td>10254.0</td>\n      <td>NaN</td>\n    </tr>\n    <tr>\n      <th>994</th>\n      <td>user_977</td>\n      <td>2019-04-20 18:10:07</td>\n      <td>10354.0</td>\n      <td>NaN</td>\n    </tr>\n    <tr>\n      <th>995</th>\n      <td>user_984</td>\n      <td>2019-04-20 9:59:58</td>\n      <td>9754.0</td>\n      <td>NaN</td>\n    </tr>\n  </tbody>\n</table>\n<p>985 rows × 4 columns</p>\n</div>"
     },
     "metadata": {}
    }
   ],
   "source": [
    "log = pd.read_csv('./file/log.csv',header=None)\n",
    "log.columns = ['user_id','time','bet','win']\n",
    "log = log[~log.user_id.str.match('#error',na=False)]\n",
    "def user_id_replace(user_id):\n",
    "    return user_id.replace('Запись пользователя № - ','')\n",
    "log.user_id = log.user_id.apply(user_id_replace)\n",
    "log.time = log.time.str.replace('[','')\n",
    "\n",
    "display(log)"
   ]
  },
  {
   "cell_type": "code",
   "execution_count": null,
   "metadata": {},
   "outputs": [],
   "source": []
  }
 ]
}