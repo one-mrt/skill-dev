{
 "metadata": {
  "language_info": {
   "codemirror_mode": {
    "name": "ipython",
    "version": 3
   },
   "file_extension": ".py",
   "mimetype": "text/x-python",
   "name": "python",
   "nbconvert_exporter": "python",
   "pygments_lexer": "ipython3",
   "version": "3.9.5"
  },
  "orig_nbformat": 4,
  "kernelspec": {
   "name": "python3",
   "display_name": "Python 3.9.5 64-bit ('.v-machine': venv)"
  },
  "interpreter": {
   "hash": "91bb9dfb0aa2682d472899f8fcdc6f7a97cda47a987b16065f36f3e8fc272924"
  }
 },
 "nbformat": 4,
 "nbformat_minor": 2,
 "cells": [
  {
   "source": [
    "### 7.2 С какими данными работаем\n",
    "#### Данные о выставленных оценках фильмов"
   ],
   "cell_type": "markdown",
   "metadata": {}
  },
  {
   "cell_type": "code",
   "execution_count": 25,
   "metadata": {},
   "outputs": [
    {
     "output_type": "display_data",
     "data": {
      "text/plain": "   userId  movieId  rating  timestamp\n0       1        1     4.0  964982703",
      "text/html": "<div>\n<style scoped>\n    .dataframe tbody tr th:only-of-type {\n        vertical-align: middle;\n    }\n\n    .dataframe tbody tr th {\n        vertical-align: top;\n    }\n\n    .dataframe thead th {\n        text-align: right;\n    }\n</style>\n<table border=\"1\" class=\"dataframe\">\n  <thead>\n    <tr style=\"text-align: right;\">\n      <th></th>\n      <th>userId</th>\n      <th>movieId</th>\n      <th>rating</th>\n      <th>timestamp</th>\n    </tr>\n  </thead>\n  <tbody>\n    <tr>\n      <th>0</th>\n      <td>1</td>\n      <td>1</td>\n      <td>4.0</td>\n      <td>964982703</td>\n    </tr>\n  </tbody>\n</table>\n</div>"
     },
     "metadata": {}
    }
   ],
   "source": [
    "import pandas as pd\n",
    "from IPython.display import display\n",
    "\n",
    "ratings = pd.read_csv('./file/ratings.csv')\n",
    "display(ratings.head(1))"
   ]
  },
  {
   "source": [
    "### Расшифровка идентификаторов фильмов"
   ],
   "cell_type": "markdown",
   "metadata": {}
  },
  {
   "cell_type": "code",
   "execution_count": 26,
   "metadata": {},
   "outputs": [
    {
     "output_type": "display_data",
     "data": {
      "text/plain": "   movieId             title                                       genres\n0        1  Toy Story (1995)  Adventure|Animation|Children|Comedy|Fantasy",
      "text/html": "<div>\n<style scoped>\n    .dataframe tbody tr th:only-of-type {\n        vertical-align: middle;\n    }\n\n    .dataframe tbody tr th {\n        vertical-align: top;\n    }\n\n    .dataframe thead th {\n        text-align: right;\n    }\n</style>\n<table border=\"1\" class=\"dataframe\">\n  <thead>\n    <tr style=\"text-align: right;\">\n      <th></th>\n      <th>movieId</th>\n      <th>title</th>\n      <th>genres</th>\n    </tr>\n  </thead>\n  <tbody>\n    <tr>\n      <th>0</th>\n      <td>1</td>\n      <td>Toy Story (1995)</td>\n      <td>Adventure|Animation|Children|Comedy|Fantasy</td>\n    </tr>\n  </tbody>\n</table>\n</div>"
     },
     "metadata": {}
    }
   ],
   "source": [
    "movies = pd.read_csv('./file/movies.csv')\n",
    "display(movies.head(1))"
   ]
  },
  {
   "source": [
    "### Структура и требования"
   ],
   "cell_type": "markdown",
   "metadata": {}
  },
  {
   "source": [
    "### 7.7 Объединяем таблицы\n",
    "#### Метод merge"
   ],
   "cell_type": "markdown",
   "metadata": {}
  },
  {
   "cell_type": "code",
   "execution_count": 50,
   "metadata": {},
   "outputs": [
    {
     "output_type": "display_data",
     "data": {
      "text/plain": "'=== Left Ratings ==='"
     },
     "metadata": {}
    },
    {
     "output_type": "display_data",
     "data": {
      "text/plain": "   userId  ...                                       genres\n0       1  ...  Adventure|Animation|Children|Comedy|Fantasy\n\n[1 rows x 6 columns]",
      "text/html": "<div>\n<style scoped>\n    .dataframe tbody tr th:only-of-type {\n        vertical-align: middle;\n    }\n\n    .dataframe tbody tr th {\n        vertical-align: top;\n    }\n\n    .dataframe thead th {\n        text-align: right;\n    }\n</style>\n<table border=\"1\" class=\"dataframe\">\n  <thead>\n    <tr style=\"text-align: right;\">\n      <th></th>\n      <th>userId</th>\n      <th>movieId</th>\n      <th>rating</th>\n      <th>timestamp</th>\n      <th>title</th>\n      <th>genres</th>\n    </tr>\n  </thead>\n  <tbody>\n    <tr>\n      <th>0</th>\n      <td>1</td>\n      <td>1</td>\n      <td>4.0</td>\n      <td>964982703</td>\n      <td>Toy Story (1995)</td>\n      <td>Adventure|Animation|Children|Comedy|Fantasy</td>\n    </tr>\n  </tbody>\n</table>\n</div>"
     },
     "metadata": {}
    },
    {
     "output_type": "display_data",
     "data": {
      "text/plain": "'=== Right Movies ==='"
     },
     "metadata": {}
    },
    {
     "output_type": "display_data",
     "data": {
      "text/plain": "   movieId             title  ... rating  timestamp\n0        1  Toy Story (1995)  ...    4.0  964982703\n\n[1 rows x 6 columns]",
      "text/html": "<div>\n<style scoped>\n    .dataframe tbody tr th:only-of-type {\n        vertical-align: middle;\n    }\n\n    .dataframe tbody tr th {\n        vertical-align: top;\n    }\n\n    .dataframe thead th {\n        text-align: right;\n    }\n</style>\n<table border=\"1\" class=\"dataframe\">\n  <thead>\n    <tr style=\"text-align: right;\">\n      <th></th>\n      <th>movieId</th>\n      <th>title</th>\n      <th>genres</th>\n      <th>userId</th>\n      <th>rating</th>\n      <th>timestamp</th>\n    </tr>\n  </thead>\n  <tbody>\n    <tr>\n      <th>0</th>\n      <td>1</td>\n      <td>Toy Story (1995)</td>\n      <td>Adventure|Animation|Children|Comedy|Fantasy</td>\n      <td>1</td>\n      <td>4.0</td>\n      <td>964982703</td>\n    </tr>\n  </tbody>\n</table>\n</div>"
     },
     "metadata": {}
    },
    {
     "output_type": "display_data",
     "data": {
      "text/plain": "True"
     },
     "metadata": {}
    }
   ],
   "source": [
    "joined = ratings.merge(movies,on='movieId',how='left')\n",
    "display('=== Left Ratings ===')\n",
    "display(joined.head(1))\n",
    "\n",
    "display('=== Right Movies ===')\n",
    "joinMovies = movies.merge(ratings,on='movieId',how='inner')\n",
    "display(joinMovies.head(1))\n",
    "\n",
    "display(len(ratings) == len(joinMovies))"
   ]
  },
  {
   "source": [
    "### 7.8 Трудности объединения датафреймов"
   ],
   "cell_type": "markdown",
   "metadata": {}
  },
  {
   "cell_type": "code",
   "execution_count": 99,
   "metadata": {},
   "outputs": [
    {
     "output_type": "display_data",
     "data": {
      "text/plain": "   userId  movieId  rating   timestamp\n0       1       31     2.5  1260759144",
      "text/html": "<div>\n<style scoped>\n    .dataframe tbody tr th:only-of-type {\n        vertical-align: middle;\n    }\n\n    .dataframe tbody tr th {\n        vertical-align: top;\n    }\n\n    .dataframe thead th {\n        text-align: right;\n    }\n</style>\n<table border=\"1\" class=\"dataframe\">\n  <thead>\n    <tr style=\"text-align: right;\">\n      <th></th>\n      <th>userId</th>\n      <th>movieId</th>\n      <th>rating</th>\n      <th>timestamp</th>\n    </tr>\n  </thead>\n  <tbody>\n    <tr>\n      <th>0</th>\n      <td>1</td>\n      <td>31</td>\n      <td>2.5</td>\n      <td>1260759144</td>\n    </tr>\n  </tbody>\n</table>\n</div>"
     },
     "metadata": {}
    },
    {
     "output_type": "display_data",
     "data": {
      "text/plain": "   movieId                                      title                   genres\n0       31                    Dangerous Minds (1995)                     Drama\n1       32  Twelve Monkeys (a.k.a. 12 Monkeys) (1995)  Mystery|Sci-Fi|Thriller\n2       31                    Dangerous Minds (1995)                     Drama",
      "text/html": "<div>\n<style scoped>\n    .dataframe tbody tr th:only-of-type {\n        vertical-align: middle;\n    }\n\n    .dataframe tbody tr th {\n        vertical-align: top;\n    }\n\n    .dataframe thead th {\n        text-align: right;\n    }\n</style>\n<table border=\"1\" class=\"dataframe\">\n  <thead>\n    <tr style=\"text-align: right;\">\n      <th></th>\n      <th>movieId</th>\n      <th>title</th>\n      <th>genres</th>\n    </tr>\n  </thead>\n  <tbody>\n    <tr>\n      <th>0</th>\n      <td>31</td>\n      <td>Dangerous Minds (1995)</td>\n      <td>Drama</td>\n    </tr>\n    <tr>\n      <th>1</th>\n      <td>32</td>\n      <td>Twelve Monkeys (a.k.a. 12 Monkeys) (1995)</td>\n      <td>Mystery|Sci-Fi|Thriller</td>\n    </tr>\n    <tr>\n      <th>2</th>\n      <td>31</td>\n      <td>Dangerous Minds (1995)</td>\n      <td>Drama</td>\n    </tr>\n  </tbody>\n</table>\n</div>"
     },
     "metadata": {}
    },
    {
     "output_type": "display_data",
     "data": {
      "text/plain": "   movieId                                      title  ... rating     timestamp\n0       31                    Dangerous Minds (1995)   ...    2.5  1.260759e+09\n1       32  Twelve Monkeys (a.k.a. 12 Monkeys) (1995)  ...    NaN           NaN\n2       31                    Dangerous Minds (1995)   ...    2.5  1.260759e+09\n\n[3 rows x 6 columns]",
      "text/html": "<div>\n<style scoped>\n    .dataframe tbody tr th:only-of-type {\n        vertical-align: middle;\n    }\n\n    .dataframe tbody tr th {\n        vertical-align: top;\n    }\n\n    .dataframe thead th {\n        text-align: right;\n    }\n</style>\n<table border=\"1\" class=\"dataframe\">\n  <thead>\n    <tr style=\"text-align: right;\">\n      <th></th>\n      <th>movieId</th>\n      <th>title</th>\n      <th>genres</th>\n      <th>userId</th>\n      <th>rating</th>\n      <th>timestamp</th>\n    </tr>\n  </thead>\n  <tbody>\n    <tr>\n      <th>0</th>\n      <td>31</td>\n      <td>Dangerous Minds (1995)</td>\n      <td>Drama</td>\n      <td>1.0</td>\n      <td>2.5</td>\n      <td>1.260759e+09</td>\n    </tr>\n    <tr>\n      <th>1</th>\n      <td>32</td>\n      <td>Twelve Monkeys (a.k.a. 12 Monkeys) (1995)</td>\n      <td>Mystery|Sci-Fi|Thriller</td>\n      <td>NaN</td>\n      <td>NaN</td>\n      <td>NaN</td>\n    </tr>\n    <tr>\n      <th>2</th>\n      <td>31</td>\n      <td>Dangerous Minds (1995)</td>\n      <td>Drama</td>\n      <td>1.0</td>\n      <td>2.5</td>\n      <td>1.260759e+09</td>\n    </tr>\n  </tbody>\n</table>\n</div>"
     },
     "metadata": {}
    },
    {
     "output_type": "display_data",
     "data": {
      "text/plain": "   userId  ...                   genres\n0     1.0  ...                    Drama\n1     1.0  ...                    Drama\n2     NaN  ...  Mystery|Sci-Fi|Thriller\n\n[3 rows x 6 columns]",
      "text/html": "<div>\n<style scoped>\n    .dataframe tbody tr th:only-of-type {\n        vertical-align: middle;\n    }\n\n    .dataframe tbody tr th {\n        vertical-align: top;\n    }\n\n    .dataframe thead th {\n        text-align: right;\n    }\n</style>\n<table border=\"1\" class=\"dataframe\">\n  <thead>\n    <tr style=\"text-align: right;\">\n      <th></th>\n      <th>userId</th>\n      <th>movieId</th>\n      <th>rating</th>\n      <th>timestamp</th>\n      <th>title</th>\n      <th>genres</th>\n    </tr>\n  </thead>\n  <tbody>\n    <tr>\n      <th>0</th>\n      <td>1.0</td>\n      <td>31</td>\n      <td>2.5</td>\n      <td>1.260759e+09</td>\n      <td>Dangerous Minds (1995)</td>\n      <td>Drama</td>\n    </tr>\n    <tr>\n      <th>1</th>\n      <td>1.0</td>\n      <td>31</td>\n      <td>2.5</td>\n      <td>1.260759e+09</td>\n      <td>Dangerous Minds (1995)</td>\n      <td>Drama</td>\n    </tr>\n    <tr>\n      <th>2</th>\n      <td>NaN</td>\n      <td>32</td>\n      <td>NaN</td>\n      <td>NaN</td>\n      <td>Twelve Monkeys (a.k.a. 12 Monkeys) (1995)</td>\n      <td>Mystery|Sci-Fi|Thriller</td>\n    </tr>\n  </tbody>\n</table>\n</div>"
     },
     "metadata": {}
    }
   ],
   "source": [
    "ratingTxt = pd.read_csv('./file/ratings_example.txt',sep='\\t')\n",
    "display(ratingTxt.head())\n",
    "\n",
    "moviesTxt = pd.read_csv('./file/movies_example.txt',sep='\\t')\n",
    "display(moviesTxt.head())\n",
    "\n",
    "joinMoviesTxt = moviesTxt.merge(ratingTxt,on='movieId',how='left')\n",
    "display(joinMoviesTxt.head())\n",
    "\n",
    "joinRatingsTxt = ratingTxt.merge(moviesTxt,on='movieId',how='outer')\n",
    "display(joinRatingsTxt)"
   ]
  },
  {
   "source": [
    "## 7.9 Дубликаты строк"
   ],
   "cell_type": "markdown",
   "metadata": {}
  },
  {
   "cell_type": "code",
   "execution_count": 95,
   "metadata": {},
   "outputs": [
    {
     "output_type": "display_data",
     "data": {
      "text/plain": "   userId  ...                   genres\n0     1.0  ...                    Drama\n1     NaN  ...  Mystery|Sci-Fi|Thriller\n\n[2 rows x 6 columns]",
      "text/html": "<div>\n<style scoped>\n    .dataframe tbody tr th:only-of-type {\n        vertical-align: middle;\n    }\n\n    .dataframe tbody tr th {\n        vertical-align: top;\n    }\n\n    .dataframe thead th {\n        text-align: right;\n    }\n</style>\n<table border=\"1\" class=\"dataframe\">\n  <thead>\n    <tr style=\"text-align: right;\">\n      <th></th>\n      <th>userId</th>\n      <th>movieId</th>\n      <th>rating</th>\n      <th>timestamp</th>\n      <th>title</th>\n      <th>genres</th>\n    </tr>\n  </thead>\n  <tbody>\n    <tr>\n      <th>0</th>\n      <td>1.0</td>\n      <td>31</td>\n      <td>2.5</td>\n      <td>1.260759e+09</td>\n      <td>Dangerous Minds (1995)</td>\n      <td>Drama</td>\n    </tr>\n    <tr>\n      <th>1</th>\n      <td>NaN</td>\n      <td>32</td>\n      <td>NaN</td>\n      <td>NaN</td>\n      <td>Twelve Monkeys (a.k.a. 12 Monkeys) (1995)</td>\n      <td>Mystery|Sci-Fi|Thriller</td>\n    </tr>\n  </tbody>\n</table>\n</div>"
     },
     "metadata": {}
    }
   ],
   "source": [
    "joinRatingsTxt = ratingTxt.merge(moviesTxt,on='movieId',how='outer')\n",
    "display(joinRatingsTxt)"
   ]
  },
  {
   "source": [
    "### Удаляем дубликаты"
   ],
   "cell_type": "markdown",
   "metadata": {}
  },
  {
   "cell_type": "code",
   "execution_count": 100,
   "metadata": {},
   "outputs": [
    {
     "output_type": "display_data",
     "data": {
      "text/plain": "   movieId                                      title                   genres\n0       31                    Dangerous Minds (1995)                     Drama\n1       32  Twelve Monkeys (a.k.a. 12 Monkeys) (1995)  Mystery|Sci-Fi|Thriller",
      "text/html": "<div>\n<style scoped>\n    .dataframe tbody tr th:only-of-type {\n        vertical-align: middle;\n    }\n\n    .dataframe tbody tr th {\n        vertical-align: top;\n    }\n\n    .dataframe thead th {\n        text-align: right;\n    }\n</style>\n<table border=\"1\" class=\"dataframe\">\n  <thead>\n    <tr style=\"text-align: right;\">\n      <th></th>\n      <th>movieId</th>\n      <th>title</th>\n      <th>genres</th>\n    </tr>\n  </thead>\n  <tbody>\n    <tr>\n      <th>0</th>\n      <td>31</td>\n      <td>Dangerous Minds (1995)</td>\n      <td>Drama</td>\n    </tr>\n    <tr>\n      <th>1</th>\n      <td>32</td>\n      <td>Twelve Monkeys (a.k.a. 12 Monkeys) (1995)</td>\n      <td>Mystery|Sci-Fi|Thriller</td>\n    </tr>\n  </tbody>\n</table>\n</div>"
     },
     "metadata": {}
    },
    {
     "output_type": "display_data",
     "data": {
      "text/plain": "   userId  movieId  rating   timestamp                    title genres\n0       1       31     2.5  1260759144  Dangerous Minds (1995)   Drama",
      "text/html": "<div>\n<style scoped>\n    .dataframe tbody tr th:only-of-type {\n        vertical-align: middle;\n    }\n\n    .dataframe tbody tr th {\n        vertical-align: top;\n    }\n\n    .dataframe thead th {\n        text-align: right;\n    }\n</style>\n<table border=\"1\" class=\"dataframe\">\n  <thead>\n    <tr style=\"text-align: right;\">\n      <th></th>\n      <th>userId</th>\n      <th>movieId</th>\n      <th>rating</th>\n      <th>timestamp</th>\n      <th>title</th>\n      <th>genres</th>\n    </tr>\n  </thead>\n  <tbody>\n    <tr>\n      <th>0</th>\n      <td>1</td>\n      <td>31</td>\n      <td>2.5</td>\n      <td>1260759144</td>\n      <td>Dangerous Minds (1995)</td>\n      <td>Drama</td>\n    </tr>\n  </tbody>\n</table>\n</div>"
     },
     "metadata": {}
    }
   ],
   "source": [
    "moviesTxt.drop_duplicates(subset='movieId',keep='first',inplace=True)\n",
    "display(moviesTxt.head())\n",
    "\n",
    "joinRatingsTxt = ratingTxt.merge(moviesTxt,how='left',on='movieId')\n",
    "display(joinRatingsTxt)"
   ]
  },
  {
   "source": [
    "## 7.10 Задания"
   ],
   "cell_type": "markdown",
   "metadata": {}
  },
  {
   "cell_type": "code",
   "execution_count": 106,
   "metadata": {},
   "outputs": [
    {
     "output_type": "display_data",
     "data": {
      "text/plain": "    item_id   vendor  stock_count  purchase_id    price\n0    417283  Samsung         54.0        101.0  13900.0\n1    849734       LG         33.0        101.0   5330.0\n2    132223    Apple        122.0        101.0  38200.0\n3    573943    Apple         18.0        112.0  49990.0\n4     19475       LG        102.0        121.0   9890.0\n5   3294095    Apple         43.0        145.0  33000.0\n6    382043  Samsung         77.0        145.0  67500.0\n7    302948  Samsung        143.0        145.0  34500.0\n8    100132       LG         60.0        221.0  11400.0\n9    312394      ZTE         19.0          NaN      NaN\n10   103845      NaN          NaN        145.0  89900.0",
      "text/html": "<div>\n<style scoped>\n    .dataframe tbody tr th:only-of-type {\n        vertical-align: middle;\n    }\n\n    .dataframe tbody tr th {\n        vertical-align: top;\n    }\n\n    .dataframe thead th {\n        text-align: right;\n    }\n</style>\n<table border=\"1\" class=\"dataframe\">\n  <thead>\n    <tr style=\"text-align: right;\">\n      <th></th>\n      <th>item_id</th>\n      <th>vendor</th>\n      <th>stock_count</th>\n      <th>purchase_id</th>\n      <th>price</th>\n    </tr>\n  </thead>\n  <tbody>\n    <tr>\n      <th>0</th>\n      <td>417283</td>\n      <td>Samsung</td>\n      <td>54.0</td>\n      <td>101.0</td>\n      <td>13900.0</td>\n    </tr>\n    <tr>\n      <th>1</th>\n      <td>849734</td>\n      <td>LG</td>\n      <td>33.0</td>\n      <td>101.0</td>\n      <td>5330.0</td>\n    </tr>\n    <tr>\n      <th>2</th>\n      <td>132223</td>\n      <td>Apple</td>\n      <td>122.0</td>\n      <td>101.0</td>\n      <td>38200.0</td>\n    </tr>\n    <tr>\n      <th>3</th>\n      <td>573943</td>\n      <td>Apple</td>\n      <td>18.0</td>\n      <td>112.0</td>\n      <td>49990.0</td>\n    </tr>\n    <tr>\n      <th>4</th>\n      <td>19475</td>\n      <td>LG</td>\n      <td>102.0</td>\n      <td>121.0</td>\n      <td>9890.0</td>\n    </tr>\n    <tr>\n      <th>5</th>\n      <td>3294095</td>\n      <td>Apple</td>\n      <td>43.0</td>\n      <td>145.0</td>\n      <td>33000.0</td>\n    </tr>\n    <tr>\n      <th>6</th>\n      <td>382043</td>\n      <td>Samsung</td>\n      <td>77.0</td>\n      <td>145.0</td>\n      <td>67500.0</td>\n    </tr>\n    <tr>\n      <th>7</th>\n      <td>302948</td>\n      <td>Samsung</td>\n      <td>143.0</td>\n      <td>145.0</td>\n      <td>34500.0</td>\n    </tr>\n    <tr>\n      <th>8</th>\n      <td>100132</td>\n      <td>LG</td>\n      <td>60.0</td>\n      <td>221.0</td>\n      <td>11400.0</td>\n    </tr>\n    <tr>\n      <th>9</th>\n      <td>312394</td>\n      <td>ZTE</td>\n      <td>19.0</td>\n      <td>NaN</td>\n      <td>NaN</td>\n    </tr>\n    <tr>\n      <th>10</th>\n      <td>103845</td>\n      <td>NaN</td>\n      <td>NaN</td>\n      <td>145.0</td>\n      <td>89900.0</td>\n    </tr>\n  </tbody>\n</table>\n</div>"
     },
     "metadata": {}
    },
    {
     "output_type": "display_data",
     "data": {
      "text/plain": "    purchase_id  item_id    price   vendor  stock_count\n0         101.0   417283  13900.0  Samsung         54.0\n1         101.0   849734   5330.0       LG         33.0\n2         101.0   132223  38200.0    Apple        122.0\n3         112.0   573943  49990.0    Apple         18.0\n4         121.0    19475   9890.0       LG        102.0\n5         145.0  3294095  33000.0    Apple         43.0\n6         145.0   382043  67500.0  Samsung         77.0\n7         145.0   302948  34500.0  Samsung        143.0\n8         145.0   103845  89900.0      NaN          NaN\n9         221.0   100132  11400.0       LG         60.0\n10          NaN   312394      NaN      ZTE         19.0",
      "text/html": "<div>\n<style scoped>\n    .dataframe tbody tr th:only-of-type {\n        vertical-align: middle;\n    }\n\n    .dataframe tbody tr th {\n        vertical-align: top;\n    }\n\n    .dataframe thead th {\n        text-align: right;\n    }\n</style>\n<table border=\"1\" class=\"dataframe\">\n  <thead>\n    <tr style=\"text-align: right;\">\n      <th></th>\n      <th>purchase_id</th>\n      <th>item_id</th>\n      <th>price</th>\n      <th>vendor</th>\n      <th>stock_count</th>\n    </tr>\n  </thead>\n  <tbody>\n    <tr>\n      <th>0</th>\n      <td>101.0</td>\n      <td>417283</td>\n      <td>13900.0</td>\n      <td>Samsung</td>\n      <td>54.0</td>\n    </tr>\n    <tr>\n      <th>1</th>\n      <td>101.0</td>\n      <td>849734</td>\n      <td>5330.0</td>\n      <td>LG</td>\n      <td>33.0</td>\n    </tr>\n    <tr>\n      <th>2</th>\n      <td>101.0</td>\n      <td>132223</td>\n      <td>38200.0</td>\n      <td>Apple</td>\n      <td>122.0</td>\n    </tr>\n    <tr>\n      <th>3</th>\n      <td>112.0</td>\n      <td>573943</td>\n      <td>49990.0</td>\n      <td>Apple</td>\n      <td>18.0</td>\n    </tr>\n    <tr>\n      <th>4</th>\n      <td>121.0</td>\n      <td>19475</td>\n      <td>9890.0</td>\n      <td>LG</td>\n      <td>102.0</td>\n    </tr>\n    <tr>\n      <th>5</th>\n      <td>145.0</td>\n      <td>3294095</td>\n      <td>33000.0</td>\n      <td>Apple</td>\n      <td>43.0</td>\n    </tr>\n    <tr>\n      <th>6</th>\n      <td>145.0</td>\n      <td>382043</td>\n      <td>67500.0</td>\n      <td>Samsung</td>\n      <td>77.0</td>\n    </tr>\n    <tr>\n      <th>7</th>\n      <td>145.0</td>\n      <td>302948</td>\n      <td>34500.0</td>\n      <td>Samsung</td>\n      <td>143.0</td>\n    </tr>\n    <tr>\n      <th>8</th>\n      <td>145.0</td>\n      <td>103845</td>\n      <td>89900.0</td>\n      <td>NaN</td>\n      <td>NaN</td>\n    </tr>\n    <tr>\n      <th>9</th>\n      <td>221.0</td>\n      <td>100132</td>\n      <td>11400.0</td>\n      <td>LG</td>\n      <td>60.0</td>\n    </tr>\n    <tr>\n      <th>10</th>\n      <td>NaN</td>\n      <td>312394</td>\n      <td>NaN</td>\n      <td>ZTE</td>\n      <td>19.0</td>\n    </tr>\n  </tbody>\n</table>\n</div>"
     },
     "metadata": {}
    }
   ],
   "source": [
    "# инфо о наличии товара на складе - info product store\n",
    "items_dict = {\n",
    "    'item_id': [417283, 849734, 132223, 573943, 19475, 3294095, 382043, 302948, 100132, 312394], \n",
    "    'vendor': ['Samsung', 'LG', 'Apple', 'Apple', 'LG', 'Apple', 'Samsung', 'Samsung', 'LG', 'ZTE'],\n",
    "    'stock_count': [54, 33, 122, 18, 102, 43, 77, 143, 60, 19]\n",
    "}\n",
    "\n",
    "# Данные о покупках\n",
    "purchase_log = {\n",
    "    'purchase_id': [101, 101, 101, 112, 121, 145, 145, 145, 145, 221],\n",
    "    'item_id': [417283, 849734, 132223, 573943, 19475, 3294095, 382043, 302948, 103845, 100132], \n",
    "    'price': [13900, 5330, 38200, 49990, 9890, 33000, 67500, 34500, 89900, 11400]\n",
    "}\n",
    "\n",
    "items_df = pd.DataFrame(items_dict)\n",
    "purchase_df = pd.DataFrame(purchase_log)\n",
    "\n",
    "joinItems = items_df.merge(purchase_df,on='item_id',how='outer')\n",
    "display(joinItems)\n",
    "\n",
    "joinPurchase = purchase_df.merge(items_df,on='item_id',how='outer')\n",
    "display(joinPurchase)"
   ]
  },
  {
   "source": [
    "### Сформируйте датафрейм merged, в котором в результате объединения purchase_df и items_df останутся модели, которые учтены на складе и имели продажи. Сколько всего таких моделей?"
   ],
   "cell_type": "markdown",
   "metadata": {}
  },
  {
   "cell_type": "code",
   "execution_count": 112,
   "metadata": {},
   "outputs": [
    {
     "output_type": "display_data",
     "data": {
      "text/plain": "   item_id   vendor  stock_count  purchase_id  price\n0   417283  Samsung           54          101  13900\n1   849734       LG           33          101   5330\n2   132223    Apple          122          101  38200\n3   573943    Apple           18          112  49990\n4    19475       LG          102          121   9890\n5  3294095    Apple           43          145  33000\n6   382043  Samsung           77          145  67500\n7   302948  Samsung          143          145  34500\n8   100132       LG           60          221  11400",
      "text/html": "<div>\n<style scoped>\n    .dataframe tbody tr th:only-of-type {\n        vertical-align: middle;\n    }\n\n    .dataframe tbody tr th {\n        vertical-align: top;\n    }\n\n    .dataframe thead th {\n        text-align: right;\n    }\n</style>\n<table border=\"1\" class=\"dataframe\">\n  <thead>\n    <tr style=\"text-align: right;\">\n      <th></th>\n      <th>item_id</th>\n      <th>vendor</th>\n      <th>stock_count</th>\n      <th>purchase_id</th>\n      <th>price</th>\n    </tr>\n  </thead>\n  <tbody>\n    <tr>\n      <th>0</th>\n      <td>417283</td>\n      <td>Samsung</td>\n      <td>54</td>\n      <td>101</td>\n      <td>13900</td>\n    </tr>\n    <tr>\n      <th>1</th>\n      <td>849734</td>\n      <td>LG</td>\n      <td>33</td>\n      <td>101</td>\n      <td>5330</td>\n    </tr>\n    <tr>\n      <th>2</th>\n      <td>132223</td>\n      <td>Apple</td>\n      <td>122</td>\n      <td>101</td>\n      <td>38200</td>\n    </tr>\n    <tr>\n      <th>3</th>\n      <td>573943</td>\n      <td>Apple</td>\n      <td>18</td>\n      <td>112</td>\n      <td>49990</td>\n    </tr>\n    <tr>\n      <th>4</th>\n      <td>19475</td>\n      <td>LG</td>\n      <td>102</td>\n      <td>121</td>\n      <td>9890</td>\n    </tr>\n    <tr>\n      <th>5</th>\n      <td>3294095</td>\n      <td>Apple</td>\n      <td>43</td>\n      <td>145</td>\n      <td>33000</td>\n    </tr>\n    <tr>\n      <th>6</th>\n      <td>382043</td>\n      <td>Samsung</td>\n      <td>77</td>\n      <td>145</td>\n      <td>67500</td>\n    </tr>\n    <tr>\n      <th>7</th>\n      <td>302948</td>\n      <td>Samsung</td>\n      <td>143</td>\n      <td>145</td>\n      <td>34500</td>\n    </tr>\n    <tr>\n      <th>8</th>\n      <td>100132</td>\n      <td>LG</td>\n      <td>60</td>\n      <td>221</td>\n      <td>11400</td>\n    </tr>\n  </tbody>\n</table>\n</div>"
     },
     "metadata": {}
    },
    {
     "output_type": "display_data",
     "data": {
      "text/plain": "item_id        9\nvendor         9\nstock_count    9\npurchase_id    9\nprice          9\ndtype: int64"
     },
     "metadata": {}
    }
   ],
   "source": [
    "merged = items_df.merge(purchase_df,on='item_id',how='inner')\n",
    "display(merged)\n",
    "display(merged.count())"
   ]
  },
  {
   "source": [
    "## Задание 4\n",
    "### Посчитайте объем выручки для каждой модели, которую можно получить, распродав все остатки на складе. Модель с каким item_id имеет максимальное значение выручки после распродажи остатков? Ответ дайте в виде целого числа."
   ],
   "cell_type": "markdown",
   "metadata": {}
  },
  {
   "cell_type": "code",
   "execution_count": 167,
   "metadata": {},
   "outputs": [
    {
     "output_type": "display_data",
     "data": {
      "text/plain": "item_id\n382043     5197500\n302948     4933500\n132223     4660400\n3294095    1419000\n19475      1008780\n573943      899820\n417283      750600\n100132      684000\n849734      175890\ndtype: int64"
     },
     "metadata": {}
    }
   ],
   "source": [
    "pivotMerged = merged.loc[merged.stock_count.isin(merged.stock_count)].pivot_table(values=['price'],\n",
    "                                                                            index=['vendor'],\n",
    "                                                                            columns=['stock_count'],\n",
    "                                                                            aggfunc=['sum'],\n",
    "                                                                            fill_value=0,\n",
    "                                                                            margins=True)\n",
    "#display(merged.stock_count)\n",
    "listMerged = {}\n",
    "\n",
    "for k in range(0, len(merged.stock_count)):\n",
    "    listMerged[merged.item_id[k]] = merged.stock_count[k] * merged.price[k]\n",
    "\n",
    "seriesMerged = pd.Series(data=listMerged,index=merged.item_id);\n",
    "\n",
    "\n",
    "display(seriesMerged.sort_values(ascending=False))\n",
    "#display(pivotMerged.loc['Apple'])\n",
    "#display(merged)"
   ]
  },
  {
   "source": [
    "## Задание 5\n",
    "### Посчитайте итоговую выручку из прошлого задания по всем моделям. Ответ дайте в виде целого числа."
   ],
   "cell_type": "markdown",
   "metadata": {}
  },
  {
   "cell_type": "code",
   "execution_count": 169,
   "metadata": {},
   "outputs": [
    {
     "output_type": "display_data",
     "data": {
      "text/plain": "19729490"
     },
     "metadata": {}
    }
   ],
   "source": [
    "display(seriesMerged.sum())"
   ]
  },
  {
   "source": [
    "## 7.11 Объединяем выгрузки"
   ],
   "cell_type": "markdown",
   "metadata": {}
  },
  {
   "cell_type": "code",
   "execution_count": null,
   "metadata": {},
   "outputs": [],
   "source": [
    "import os"
   ]
  },
  {
   "source": [
    "### Для получения списка файлов метод listdir библиотеки os"
   ],
   "cell_type": "markdown",
   "metadata": {}
  },
  {
   "cell_type": "code",
   "execution_count": 171,
   "metadata": {},
   "outputs": [
    {
     "output_type": "display_data",
     "data": {
      "text/plain": "['ratings_1.txt',\n 'ratings_10.txt',\n 'ratings_2.txt',\n 'ratings_3.txt',\n 'ratings_4.txt',\n 'ratings_5.txt',\n 'ratings_6.txt',\n 'ratings_7.txt',\n 'ratings_8.txt',\n 'ratings_9.txt']"
     },
     "metadata": {}
    }
   ],
   "source": [
    "files = os.listdir('./data/')\n",
    "display(files)"
   ]
  },
  {
   "source": [
    "## Задание\n",
    "### Создайте на основе списка files новый список data, в который поместите только файлы, содержащие в названии \"txt\"."
   ],
   "cell_type": "markdown",
   "metadata": {}
  },
  {
   "cell_type": "code",
   "execution_count": null,
   "metadata": {},
   "outputs": [],
   "source": [
    "taskFiles = ['setup.py', 'ratings.txt', 'stock_stats.txt', 'movies.txt', 'run.sh', 'game_of_thrones.mov']"
   ]
  },
  {
   "source": [
    "## 7.12 Выгрузка из вложенных файлов\n",
    "### Получить имена вложенных папок отдельно от названий файлов можно с помощью метода walk"
   ],
   "cell_type": "markdown",
   "metadata": {}
  },
  {
   "cell_type": "code",
   "execution_count": 172,
   "metadata": {},
   "outputs": [
    {
     "output_type": "display_data",
     "data": {
      "text/plain": "'data'"
     },
     "metadata": {}
    },
    {
     "output_type": "display_data",
     "data": {
      "text/plain": "[]"
     },
     "metadata": {}
    },
    {
     "output_type": "display_data",
     "data": {
      "text/plain": "['ratings_1.txt',\n 'ratings_10.txt',\n 'ratings_2.txt',\n 'ratings_3.txt',\n 'ratings_4.txt',\n 'ratings_5.txt',\n 'ratings_6.txt',\n 'ratings_7.txt',\n 'ratings_8.txt',\n 'ratings_9.txt']"
     },
     "metadata": {}
    }
   ],
   "source": [
    "for root, dirs, files in os.walk('data'):\n",
    "    display(root,dirs,files)"
   ]
  },
  {
   "source": [
    "## 7.13 Склеивание датафреймов\n",
    "### метод concatenate"
   ],
   "cell_type": "markdown",
   "metadata": {}
  },
  {
   "cell_type": "code",
   "execution_count": 180,
   "metadata": {},
   "outputs": [
    {
     "output_type": "display_data",
     "data": {
      "text/plain": "userId       100004\nmovieId      100004\nrating            0\ntimestamp    100004\ntating       100004\ndtype: int64"
     },
     "metadata": {}
    }
   ],
   "source": [
    "data = pd.DataFrame(columns=['userId','movieId','rating','timestamp'])\n",
    "\n",
    "for root, dirs, files in os.walk('data'):\n",
    "    for filename in files:\n",
    "        temp = pd.read_csv(os.path.join('./data/',filename),names=['userId','movieId','tating','timestamp'])\n",
    "        data = pd.concat([data,temp])\n",
    "\n",
    "display(data.count())"
   ]
  },
  {
   "cell_type": "code",
   "execution_count": 181,
   "metadata": {},
   "outputs": [
    {
     "output_type": "display_data",
     "data": {
      "text/plain": "userId       1370\nmovieId      1370\nrating       1370\ntimestamp    1370\ndtype: int64"
     },
     "metadata": {}
    }
   ],
   "source": [
    "display(ratings[ratings.rating == 0.5].count())"
   ]
  },
  {
   "cell_type": "code",
   "execution_count": 183,
   "metadata": {},
   "outputs": [
    {
     "output_type": "display_data",
     "data": {
      "text/plain": "movieId      100854\ntitle        100854\ngenres       100854\nuserId       100836\nrating       100836\ntimestamp    100836\ndtype: int64"
     },
     "metadata": {}
    }
   ],
   "source": [
    "rMovie = movies.merge(ratings,how='outer',on='movieId')\n",
    "display(rMovie.count())"
   ]
  },
  {
   "cell_type": "code",
   "execution_count": 185,
   "metadata": {},
   "outputs": [
    {
     "output_type": "display_data",
     "data": {
      "text/plain": "      movieId                                         title genres\n2587     3456  Color of Paradise, The (Rang-e khoda) (1999)  Drama",
      "text/html": "<div>\n<style scoped>\n    .dataframe tbody tr th:only-of-type {\n        vertical-align: middle;\n    }\n\n    .dataframe tbody tr th {\n        vertical-align: top;\n    }\n\n    .dataframe thead th {\n        text-align: right;\n    }\n</style>\n<table border=\"1\" class=\"dataframe\">\n  <thead>\n    <tr style=\"text-align: right;\">\n      <th></th>\n      <th>movieId</th>\n      <th>title</th>\n      <th>genres</th>\n    </tr>\n  </thead>\n  <tbody>\n    <tr>\n      <th>2587</th>\n      <td>3456</td>\n      <td>Color of Paradise, The (Rang-e khoda) (1999)</td>\n      <td>Drama</td>\n    </tr>\n  </tbody>\n</table>\n</div>"
     },
     "metadata": {}
    },
    {
     "output_type": "display_data",
     "data": {
      "text/plain": "Empty DataFrame\nColumns: [userId, movieId, rating, timestamp]\nIndex: []",
      "text/html": "<div>\n<style scoped>\n    .dataframe tbody tr th:only-of-type {\n        vertical-align: middle;\n    }\n\n    .dataframe tbody tr th {\n        vertical-align: top;\n    }\n\n    .dataframe thead th {\n        text-align: right;\n    }\n</style>\n<table border=\"1\" class=\"dataframe\">\n  <thead>\n    <tr style=\"text-align: right;\">\n      <th></th>\n      <th>userId</th>\n      <th>movieId</th>\n      <th>rating</th>\n      <th>timestamp</th>\n    </tr>\n  </thead>\n  <tbody>\n  </tbody>\n</table>\n</div>"
     },
     "metadata": {}
    }
   ],
   "source": [
    "display(movies[movies.movieId == 3456])\n",
    "display(ratings[ratings.movieId == 3456])"
   ]
  }
 ]
}