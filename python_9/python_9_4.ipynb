{
 "metadata": {
  "language_info": {
   "codemirror_mode": {
    "name": "ipython",
    "version": 3
   },
   "file_extension": ".py",
   "mimetype": "text/x-python",
   "name": "python",
   "nbconvert_exporter": "python",
   "pygments_lexer": "ipython3",
   "version": "3.9.5"
  },
  "orig_nbformat": 4,
  "kernelspec": {
   "name": "python3",
   "display_name": "Python 3.9.5 64-bit ('.v-machine': venv)"
  },
  "interpreter": {
   "hash": "91bb9dfb0aa2682d472899f8fcdc6f7a97cda47a987b16065f36f3e8fc272924"
  }
 },
 "nbformat": 4,
 "nbformat_minor": 2,
 "cells": [
  {
   "cell_type": "code",
   "execution_count": 2,
   "source": [
    "import numpy as np"
   ],
   "outputs": [],
   "metadata": {}
  },
  {
   "cell_type": "markdown",
   "source": [
    "## 9.4. Операции с массивами\n",
    "В NumPy над массивами можно производить все старндартные арифметические операции"
   ],
   "metadata": {}
  },
  {
   "cell_type": "code",
   "execution_count": 3,
   "source": [
    "a = np.array([3,6,9])\r\n",
    "b = np.array([12,15,18])\r\n",
    "\r\n",
    "result1 = a+b\r\n",
    "result2 = b-a\r\n",
    "result3 = a*b\r\n",
    "result4 = a/b\r\n",
    "result5 = a*2\r\n",
    "\r\n",
    "print('Сумма: {}\\nРазность:{}\\nПроизведение:{}\\nЧастное:{}\\nУмножение на число:{}'.format(result1,result2,result3,result4, result5))"
   ],
   "outputs": [
    {
     "output_type": "stream",
     "name": "stdout",
     "text": [
      "Сумма: [15 21 27]\n",
      "Разность:[9 9 9]\n",
      "Произведение:[ 36  90 162]\n",
      "Частное:[0.25 0.4  0.5 ]\n",
      "Умножение на число:[ 6 12 18]\n"
     ]
    }
   ],
   "metadata": {}
  },
  {
   "cell_type": "markdown",
   "source": [
    "### Унивесальные фукнции\n",
    "Универсальными называют функции, которые выполняют поэлементные операции над данными, хранящимися в объектах ndarray. Большинство универсальных функций относятся к унарным операциям и выполняются над каждым элементом массива по очреди. Унарные операции - это и есть операции, которые выполняются над каждым элментом массива по очереди\n",
    "\n",
    "Расмотрим список часто используемых универсальных фукнций NumPy. При вызове каждой из этих функци необходимо указаывать название библилотеки NumPy: np.isnan(имя массива):\n",
    "abs - Абсолютное значение целых, вещественных иликомплексных элементов массива\n",
    "sqrt - Квадртный корень каждого элемента массива\n",
    "exp - экспонента каждого элемента масссива\n",
    "log, log10, log2, log1p - Натуральный (по основанию е), десятичный, двоичный логорифм и фукнция log(1+x)                            соответственно\n",
    "modf - Дробные и целые части массива в виде отдельных массивов\n",
    "isnan - массив логических (булевых) значений, показывающий, какие из элементов исходного массива являются           NaN (не числами)\n",
    "cos,sin,tan - обычные тригонометрические функции\n",
    "arcos,arcsin,arctan - обратные тригонометрические функции"
   ],
   "metadata": {}
  },
  {
   "cell_type": "markdown",
   "source": [
    "### Изменение размерности массива"
   ],
   "metadata": {}
  },
  {
   "cell_type": "code",
   "execution_count": 4,
   "source": [
    "my_array = np.array([[1,2,3,4,5],[6,7,8,9,10]])\r\n",
    "print(my_array)\r\n",
    "my_array.T"
   ],
   "outputs": [
    {
     "output_type": "stream",
     "name": "stdout",
     "text": [
      "[[ 1  2  3  4  5]\n",
      " [ 6  7  8  9 10]]\n"
     ]
    },
    {
     "output_type": "execute_result",
     "data": {
      "text/plain": [
       "array([[ 1,  6],\n",
       "       [ 2,  7],\n",
       "       [ 3,  8],\n",
       "       [ 4,  9],\n",
       "       [ 5, 10]])"
      ]
     },
     "metadata": {},
     "execution_count": 4
    }
   ],
   "metadata": {}
  },
  {
   "cell_type": "markdown",
   "source": [
    "Дле превращения массива одной размерности в массив другой - обычной для преобразования одномерного массива в многомерный - используется метод reshape. Изменить размерность массива можно только в том случае, если числов элментнов в исходной и в целевом массиве совпадает"
   ],
   "metadata": {}
  },
  {
   "cell_type": "code",
   "execution_count": 5,
   "source": [
    "my_array = np.random.randint(0,10,20)\r\n",
    "print(my_array)\r\n",
    "my_array.reshape((4,5))"
   ],
   "outputs": [
    {
     "output_type": "stream",
     "name": "stdout",
     "text": [
      "[5 3 2 1 1 8 9 0 7 0 6 7 6 8 5 2 8 6 6 9]\n"
     ]
    },
    {
     "output_type": "execute_result",
     "data": {
      "text/plain": [
       "array([[5, 3, 2, 1, 1],\n",
       "       [8, 9, 0, 7, 0],\n",
       "       [6, 7, 6, 8, 5],\n",
       "       [2, 8, 6, 6, 9]])"
      ]
     },
     "metadata": {},
     "execution_count": 5
    }
   ],
   "metadata": {}
  },
  {
   "cell_type": "markdown",
   "source": [
    "ДЛя преобразования многомерного массива в одномерный используется **метод flatten**"
   ],
   "metadata": {}
  },
  {
   "cell_type": "code",
   "execution_count": 6,
   "source": [
    "my_array = np.array([[1,2,3],[11,22,33],[111,222,333]])\r\n",
    "print(my_array)\r\n",
    "\r\n",
    "my_array.flatten()"
   ],
   "outputs": [
    {
     "output_type": "stream",
     "name": "stdout",
     "text": [
      "[[  1   2   3]\n",
      " [ 11  22  33]\n",
      " [111 222 333]]\n"
     ]
    },
    {
     "output_type": "execute_result",
     "data": {
      "text/plain": [
       "array([  1,   2,   3,  11,  22,  33, 111, 222, 333])"
      ]
     },
     "metadata": {},
     "execution_count": 6
    }
   ],
   "metadata": {}
  },
  {
   "cell_type": "markdown",
   "source": [
    "### Сравнение и маски"
   ],
   "metadata": {}
  },
  {
   "cell_type": "code",
   "execution_count": 7,
   "source": [
    "my_array = np.random.randint(0,10,(3,4))\r\n",
    "print(my_array)\r\n",
    "\r\n",
    "print('===')\r\n",
    "print(my_array < 5)\r\n",
    "\r\n",
    "print('===')\r\n",
    "print(my_array[my_array < 5])"
   ],
   "outputs": [
    {
     "output_type": "stream",
     "name": "stdout",
     "text": [
      "[[8 7 1 9]\n",
      " [0 1 0 6]\n",
      " [2 5 1 5]]\n",
      "===\n",
      "[[False False  True False]\n",
      " [ True  True  True False]\n",
      " [ True False  True False]]\n",
      "===\n",
      "[1 0 1 0 2 1]\n"
     ]
    }
   ],
   "metadata": {}
  },
  {
   "cell_type": "markdown",
   "source": [
    "Маска нжуна для вбора только определенных строк или столбцов из всего массива и скрытия остальных. Маска в Python задается при помощи булевых 0 и 1, где 0 скрывает столбец или строку, а 1 оставляет ее на виду "
   ],
   "metadata": {}
  },
  {
   "cell_type": "code",
   "execution_count": 8,
   "source": [
    "print('===')\r\n",
    "mask = np.array([1,0,1,0], dtype=bool)\r\n",
    "print(my_array[:,mask])"
   ],
   "outputs": [
    {
     "output_type": "stream",
     "name": "stdout",
     "text": [
      "===\n",
      "[[8 1]\n",
      " [0 0]\n",
      " [2 1]]\n"
     ]
    }
   ],
   "metadata": {}
  },
  {
   "cell_type": "code",
   "execution_count": 9,
   "source": [
    "print('ddd')"
   ],
   "outputs": [
    {
     "output_type": "stream",
     "name": "stdout",
     "text": [
      "ddd\n"
     ]
    }
   ],
   "metadata": {}
  }
 ]
}