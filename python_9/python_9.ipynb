{
 "metadata": {
  "language_info": {
   "codemirror_mode": {
    "name": "ipython",
    "version": 3
   },
   "file_extension": ".py",
   "mimetype": "text/x-python",
   "name": "python",
   "nbconvert_exporter": "python",
   "pygments_lexer": "ipython3",
   "version": "3.9.5"
  },
  "orig_nbformat": 4,
  "kernelspec": {
   "name": "python3",
   "display_name": "Python 3.9.5 64-bit ('.v-machine': venv)"
  },
  "interpreter": {
   "hash": "91bb9dfb0aa2682d472899f8fcdc6f7a97cda47a987b16065f36f3e8fc272924"
  }
 },
 "nbformat": 4,
 "nbformat_minor": 2,
 "cells": [
  {
   "cell_type": "code",
   "execution_count": 4,
   "metadata": {},
   "outputs": [],
   "source": [
    "import numpy as np"
   ]
  },
  {
   "source": [
    "# 9.2. О массивах NumPy"
   ],
   "cell_type": "markdown",
   "metadata": {}
  },
  {
   "source": [
    "### Создание массива"
   ],
   "cell_type": "markdown",
   "metadata": {}
  },
  {
   "cell_type": "code",
   "execution_count": 13,
   "metadata": {},
   "outputs": [
    {
     "output_type": "stream",
     "name": "stdout",
     "text": [
      "[5 6 7 8]\n=====\nfloat64\n=====\n(3, 3)\n(3, 3)\n=====\n"
     ]
    }
   ],
   "source": [
    "arr1 = np.array([5,6,7,8])\n",
    "\n",
    "print(arr1)\n",
    "\n",
    "print('=====')\n",
    "\n",
    "arr2 = np.array([5,6,7,8],dtype=float)\n",
    "\n",
    "print(arr2.dtype)\n",
    "\n",
    "print('=====')\n",
    "\n",
    "# Bivariate array\n",
    "arr3 = np.array([\n",
    "    [1,2,3],\n",
    "    [4,5,6],\n",
    "    [7,8,9]\n",
    "])\n",
    "\n",
    "print(arr3.shape)\n",
    "print(np.shape(arr3))\n",
    "\n",
    "print('=====')"
   ]
  },
  {
   "source": [
    "### Массив из Pandas"
   ],
   "cell_type": "markdown",
   "metadata": {}
  },
  {
   "source": [
    "В процессе анализа данных возникают ситуации, когда требуется выполнить с данными, хранящимися в Pandas DataFrame, сложные математичесеки операции. Мы можем преобразовать датафрейм или его часть, содержащую количественные показатели, в объект ndarray спомощью функции values библиотеки Pandas"
   ],
   "cell_type": "markdown",
   "metadata": {}
  },
  {
   "cell_type": "code",
   "execution_count": 18,
   "metadata": {},
   "outputs": [
    {
     "output_type": "stream",
     "name": "stdout",
     "text": [
      "<class 'numpy.ndarray'>\n=====\n"
     ]
    }
   ],
   "source": [
    "import pandas as pd\n",
    "\n",
    "df = pd.DataFrame()\n",
    "x = df.values\n",
    "\n",
    "print(type(x))\n",
    "\n",
    "print('=====')"
   ]
  },
  {
   "source": [
    "Используя функцию values, массив можно получить из Series"
   ],
   "cell_type": "markdown",
   "metadata": {}
  },
  {
   "cell_type": "code",
   "execution_count": 19,
   "metadata": {},
   "outputs": [
    {
     "output_type": "stream",
     "name": "stdout",
     "text": [
      "[ 5  6  7  8  9 10]\n"
     ]
    }
   ],
   "source": [
    "my_series = pd.Series([5,6,7,8,9,10])\n",
    "\n",
    "print(my_series.values)"
   ]
  },
  {
   "source": [
    "### Другие способы создания массива\n",
    "Иногда при решении задач нужно создать массив заданноой структуры до того, как становится известно о хранящихся в нем данных. В NumPy есть функции, которые позволяют задвать размерность массива, выделять память для его хранения и заполнять массив элементами (единицамиб нулями)"
   ],
   "cell_type": "markdown",
   "metadata": {}
  },
  {
   "cell_type": "code",
   "execution_count": null,
   "metadata": {},
   "outputs": [],
   "source": []
  },
  {
   "source": [
    "# одномерный массив из пяти элементов, память для которого выделен, но не инициализирована\n",
    "np.empty(5)\n",
    "# Массив размером 10х7, заполненный нулями\n",
    "np.zeros((10,7))\n",
    "# Массив размером 3х3х3, заполненный единицами\n",
    "np.ones((3,3,3))\n",
    "# единичная матрица (элементы главной диагонали равны 1, остальные - 0) размера 3х3\n",
    "np.eye(3)\n",
    "# массив 3х5 заполенный числом 3.14\n",
    "np.full((3,5),3.14)\n",
    "# одномерный массив, заполненный числами в диапазоне от 0 до 20 с шагом 7\n",
    "np.arange(0,21,7)\n",
    "# массив из пяти чисел, равномерно рапределенных в интервале между 0 и 1 включительно\n",
    "np.linspace(0,1,5)\n",
    "# массив размера 3х3, заполненный случайными числами из диапазона от 0 до 9 (включительно)\n",
    "np.random.randint(0,10, (3,3))"
   ],
   "cell_type": "code",
   "metadata": {},
   "execution_count": 29,
   "outputs": [
    {
     "output_type": "execute_result",
     "data": {
      "text/plain": [
       "array([[5, 4, 7],\n",
       "       [1, 4, 6],\n",
       "       [7, 9, 6]])"
      ]
     },
     "metadata": {},
     "execution_count": 29
    }
   ]
  },
  {
   "source": [
    "### Задание 3"
   ],
   "cell_type": "markdown",
   "metadata": {}
  },
  {
   "cell_type": "code",
   "execution_count": 35,
   "metadata": {},
   "outputs": [
    {
     "output_type": "stream",
     "name": "stdout",
     "text": [
      "[1, 57, 71, 127, 141, 197, 211, 267, 281]\n"
     ]
    },
    {
     "output_type": "execute_result",
     "data": {
      "text/plain": [
       "array([[  1. ,  57. ,  71. , 127. , 141. , 197. , 211. , 267. , 281. ],\n",
       "       [  0.5,  28.5,  35.5,  63.5,  70.5,  98.5, 105.5, 133.5, 140.5],\n",
       "       [-99. , -43. , -29. ,  27. ,  41. ,  97. , 111. , 167. , 181. ]])"
      ]
     },
     "metadata": {},
     "execution_count": 35
    }
   ],
   "source": [
    "my_secret = [x for x in range(1,301,7) if x%10==7 or x%10 == 1]\n",
    "print(my_secret)\n",
    "np.array([my_secret, [x/2 for x in my_secret], [x-100 for x in my_secret]])"
   ]
  }
 ]
}