{
    "cells": [
        {
            "cell_type": "markdown",
            "source": [
                "## 9.4 Операции с массивами\r\n",
                "### Операции с массивами"
            ],
            "metadata": {}
        },
        {
            "cell_type": "code",
            "execution_count": 62,
            "source": [
                "import numpy as np"
            ],
            "outputs": [],
            "metadata": {}
        },
        {
            "cell_type": "code",
            "execution_count": 63,
            "source": [
                "a = np.array([3,6,9])\r\n",
                "b = np.array([12,15,18])\r\n",
                "\r\n",
                "result1 = a+b\r\n",
                "result2 = b-a\r\n",
                "result3 = a*b\r\n",
                "result4 = a/b\r\n",
                "result5 = a*2\r\n",
                "\r\n",
                "print('Сумма: {}\\nРазность:{}\\nПроизведение:{}\\nЧасное:{}\\nУмножение на число:{}'.format(result1,result2,result3,result4,result5))"
            ],
            "outputs": [
                {
                    "output_type": "stream",
                    "name": "stdout",
                    "text": [
                        "Сумма: [15 21 27]\n",
                        "Разность:[9 9 9]\n",
                        "Произведение:[ 36  90 162]\n",
                        "Часное:[0.25 0.4  0.5 ]\n",
                        "Умножение на число:[ 6 12 18]\n"
                    ]
                }
            ],
            "metadata": {}
        },
        {
            "cell_type": "markdown",
            "source": [
                "### Изменение размерности массива"
            ],
            "metadata": {}
        },
        {
            "cell_type": "code",
            "execution_count": 64,
            "source": [
                "my_array = np.array([[1,2,3,4,5],[6,7,8,9,10]])\r\n",
                "my_array.T"
            ],
            "outputs": [
                {
                    "output_type": "execute_result",
                    "data": {
                        "text/plain": [
                            "array([[ 1,  6],\n",
                            "       [ 2,  7],\n",
                            "       [ 3,  8],\n",
                            "       [ 4,  9],\n",
                            "       [ 5, 10]])"
                        ]
                    },
                    "metadata": {},
                    "execution_count": 64
                }
            ],
            "metadata": {}
        },
        {
            "cell_type": "markdown",
            "source": [
                "Для **превращения** массива одной **размерности** в массив другой -\r\n",
                "обычно для преобразования одномерного массива в многомерный -\r\n",
                "используется **метод reshape**"
            ],
            "metadata": {}
        },
        {
            "cell_type": "code",
            "execution_count": 65,
            "source": [
                "my_array = np.random.randint(0,10,20)\r\n",
                "my_array.reshape((4,5))"
            ],
            "outputs": [
                {
                    "output_type": "execute_result",
                    "data": {
                        "text/plain": [
                            "array([[5, 7, 0, 1, 2],\n",
                            "       [0, 9, 2, 3, 1],\n",
                            "       [7, 5, 3, 5, 9],\n",
                            "       [3, 3, 5, 9, 6]])"
                        ]
                    },
                    "metadata": {},
                    "execution_count": 65
                }
            ],
            "metadata": {}
        },
        {
            "cell_type": "markdown",
            "source": [
                "Для преобразования многомерного массива в одномерный используется **метод flatten**"
            ],
            "metadata": {}
        },
        {
            "cell_type": "code",
            "execution_count": 66,
            "source": [
                "my_array = np.array([[1,2,3],[11,22,33],[111,222,333]])\r\n",
                "my_array.flatten()"
            ],
            "outputs": [
                {
                    "output_type": "execute_result",
                    "data": {
                        "text/plain": [
                            "array([  1,   2,   3,  11,  22,  33, 111, 222, 333])"
                        ]
                    },
                    "metadata": {},
                    "execution_count": 66
                }
            ],
            "metadata": {}
        },
        {
            "cell_type": "markdown",
            "source": [
                "### **Сравнение и маски**"
            ],
            "metadata": {}
        },
        {
            "cell_type": "code",
            "execution_count": 67,
            "source": [
                "my_array = np.random.randint(0,10,(3,4))\r\n",
                "my_array<5"
            ],
            "outputs": [
                {
                    "output_type": "execute_result",
                    "data": {
                        "text/plain": [
                            "array([[False,  True, False,  True],\n",
                            "       [False,  True, False, False],\n",
                            "       [ True,  True, False,  True]])"
                        ]
                    },
                    "metadata": {},
                    "execution_count": 67
                }
            ],
            "metadata": {}
        },
        {
            "cell_type": "code",
            "execution_count": 68,
            "source": [
                "my_array[my_array<5]"
            ],
            "outputs": [
                {
                    "output_type": "execute_result",
                    "data": {
                        "text/plain": [
                            "array([4, 2, 2, 2, 2, 2])"
                        ]
                    },
                    "metadata": {},
                    "execution_count": 68
                }
            ],
            "metadata": {}
        },
        {
            "cell_type": "markdown",
            "source": [
                "**Маска** нужна для **выбора** только определенных строк или столбцов из всего массива и скрытия остальных.\r\n",
                "\r\n",
                "Маска в Python задается при помощи булевых 0 и 1, где 0 скрывает столбец или строку, а 1 оставляет ее на виду."
            ],
            "metadata": {}
        },
        {
            "cell_type": "code",
            "execution_count": 76,
            "source": [
                "mask = np.array([1,0,0,0], dtype=bool)\r\n",
                "print(my_array)\r\n",
                "my_array[mask]"
            ],
            "outputs": [
                {
                    "output_type": "stream",
                    "name": "stdout",
                    "text": [
                        "[[8 2 8 5 1 1]\n",
                        " [0 6 8 7 5 4]\n",
                        " [7 6 9 6 7 8]\n",
                        " [5 5 3 2 5 9]]\n"
                    ]
                },
                {
                    "output_type": "execute_result",
                    "data": {
                        "text/plain": [
                            "array([[8, 2, 8, 5, 1, 1]])"
                        ]
                    },
                    "metadata": {},
                    "execution_count": 76
                }
            ],
            "metadata": {}
        },
        {
            "cell_type": "markdown",
            "source": [
                "### **Сортировка двумерных массивов**\r\n",
                "Сортировка выполняется с помощью **функции sort**, в качестве параметров функция получает сам массив, а также номер оси (0 - для столбцов или 1 - для строк),"
            ],
            "metadata": {}
        },
        {
            "cell_type": "code",
            "execution_count": 70,
            "source": [
                "my_array = np.random.randint(0,10,(4,6))\r\n",
                "np.sort(my_array,axis=1)\r\n",
                "np.sort(my_array,axis=0)"
            ],
            "outputs": [
                {
                    "output_type": "execute_result",
                    "data": {
                        "text/plain": [
                            "array([[0, 2, 3, 2, 1, 1],\n",
                            "       [5, 5, 8, 5, 5, 4],\n",
                            "       [7, 6, 8, 6, 5, 8],\n",
                            "       [8, 6, 9, 7, 7, 9]])"
                        ]
                    },
                    "metadata": {},
                    "execution_count": 70
                }
            ],
            "metadata": {}
        },
        {
            "cell_type": "markdown",
            "source": [
                "## **Упраженения**"
            ],
            "metadata": {}
        },
        {
            "cell_type": "code",
            "execution_count": 71,
            "source": [
                "first = [x**(1/2) for x in range(100)]\r\n",
                "second = [x**(1/3) for x in range(100,200)]\r\n",
                "third = [x/y for x in range(200,300,2) for y in [3,5]]\r\n",
                "\r\n",
                "great_secret = np.array([first,second,third]).T"
            ],
            "outputs": [],
            "metadata": {}
        },
        {
            "cell_type": "markdown",
            "source": [
                "### **Задание 1**\r\n",
                "Сколько столбцов содержит массива great_secret"
            ],
            "metadata": {}
        },
        {
            "cell_type": "code",
            "execution_count": 72,
            "source": [
                "great_secret"
            ],
            "outputs": [
                {
                    "output_type": "execute_result",
                    "data": {
                        "text/plain": [
                            "array([[ 0.        ,  4.64158883, 66.66666667],\n",
                            "       [ 1.        ,  4.65700951, 40.        ],\n",
                            "       [ 1.41421356,  4.67232873, 67.33333333],\n",
                            "       [ 1.73205081,  4.68754815, 40.4       ],\n",
                            "       [ 2.        ,  4.70266938, 68.        ],\n",
                            "       [ 2.23606798,  4.71769398, 40.8       ],\n",
                            "       [ 2.44948974,  4.73262349, 68.66666667],\n",
                            "       [ 2.64575131,  4.7474594 , 41.2       ],\n",
                            "       [ 2.82842712,  4.76220316, 69.33333333],\n",
                            "       [ 3.        ,  4.77685618, 41.6       ],\n",
                            "       [ 3.16227766,  4.79141986, 70.        ],\n",
                            "       [ 3.31662479,  4.80589553, 42.        ],\n",
                            "       [ 3.46410162,  4.82028453, 70.66666667],\n",
                            "       [ 3.60555128,  4.83458813, 42.4       ],\n",
                            "       [ 3.74165739,  4.84880759, 71.33333333],\n",
                            "       [ 3.87298335,  4.86294413, 42.8       ],\n",
                            "       [ 4.        ,  4.87699896, 72.        ],\n",
                            "       [ 4.12310563,  4.89097325, 43.2       ],\n",
                            "       [ 4.24264069,  4.90486813, 72.66666667],\n",
                            "       [ 4.35889894,  4.91868473, 43.6       ],\n",
                            "       [ 4.47213595,  4.93242415, 73.33333333],\n",
                            "       [ 4.58257569,  4.94608744, 44.        ],\n",
                            "       [ 4.69041576,  4.95967566, 74.        ],\n",
                            "       [ 4.79583152,  4.97318983, 44.4       ],\n",
                            "       [ 4.89897949,  4.98663095, 74.66666667],\n",
                            "       [ 5.        ,  5.        , 44.8       ],\n",
                            "       [ 5.09901951,  5.01329793, 75.33333333],\n",
                            "       [ 5.19615242,  5.0265257 , 45.2       ],\n",
                            "       [ 5.29150262,  5.0396842 , 76.        ],\n",
                            "       [ 5.38516481,  5.05277435, 45.6       ],\n",
                            "       [ 5.47722558,  5.06579702, 76.66666667],\n",
                            "       [ 5.56776436,  5.07875308, 46.        ],\n",
                            "       [ 5.65685425,  5.09164337, 77.33333333],\n",
                            "       [ 5.74456265,  5.10446872, 46.4       ],\n",
                            "       [ 5.83095189,  5.11722995, 78.        ],\n",
                            "       [ 5.91607978,  5.12992784, 46.8       ],\n",
                            "       [ 6.        ,  5.14256318, 78.66666667],\n",
                            "       [ 6.08276253,  5.15513674, 47.2       ],\n",
                            "       [ 6.164414  ,  5.16764925, 79.33333333],\n",
                            "       [ 6.244998  ,  5.18010147, 47.6       ],\n",
                            "       [ 6.32455532,  5.1924941 , 80.        ],\n",
                            "       [ 6.40312424,  5.20482786, 48.        ],\n",
                            "       [ 6.4807407 ,  5.21710345, 80.66666667],\n",
                            "       [ 6.55743852,  5.22932153, 48.4       ],\n",
                            "       [ 6.63324958,  5.24148279, 81.33333333],\n",
                            "       [ 6.70820393,  5.25358787, 48.8       ],\n",
                            "       [ 6.78232998,  5.26563743, 82.        ],\n",
                            "       [ 6.8556546 ,  5.27763209, 49.2       ],\n",
                            "       [ 6.92820323,  5.28957247, 82.66666667],\n",
                            "       [ 7.        ,  5.30145919, 49.6       ],\n",
                            "       [ 7.07106781,  5.31329285, 83.33333333],\n",
                            "       [ 7.14142843,  5.32507402, 50.        ],\n",
                            "       [ 7.21110255,  5.3368033 , 84.        ],\n",
                            "       [ 7.28010989,  5.34848124, 50.4       ],\n",
                            "       [ 7.34846923,  5.36010841, 84.66666667],\n",
                            "       [ 7.41619849,  5.37168535, 50.8       ],\n",
                            "       [ 7.48331477,  5.38321261, 85.33333333],\n",
                            "       [ 7.54983444,  5.39469071, 51.2       ],\n",
                            "       [ 7.61577311,  5.40612018, 86.        ],\n",
                            "       [ 7.68114575,  5.41750151, 51.6       ],\n",
                            "       [ 7.74596669,  5.42883523, 86.66666667],\n",
                            "       [ 7.81024968,  5.44012183, 52.        ],\n",
                            "       [ 7.87400787,  5.45136178, 87.33333333],\n",
                            "       [ 7.93725393,  5.46255557, 52.4       ],\n",
                            "       [ 8.        ,  5.47370367, 88.        ],\n",
                            "       [ 8.06225775,  5.48480655, 52.8       ],\n",
                            "       [ 8.1240384 ,  5.49586466, 88.66666667],\n",
                            "       [ 8.18535277,  5.50687845, 53.2       ],\n",
                            "       [ 8.24621125,  5.51784835, 89.33333333],\n",
                            "       [ 8.30662386,  5.52877481, 53.6       ],\n",
                            "       [ 8.36660027,  5.53965826, 90.        ],\n",
                            "       [ 8.42614977,  5.5504991 , 54.        ],\n",
                            "       [ 8.48528137,  5.56129777, 90.66666667],\n",
                            "       [ 8.54400375,  5.57205466, 54.4       ],\n",
                            "       [ 8.60232527,  5.58277017, 91.33333333],\n",
                            "       [ 8.66025404,  5.59344471, 54.8       ],\n",
                            "       [ 8.71779789,  5.60407866, 92.        ],\n",
                            "       [ 8.77496439,  5.61467241, 55.2       ],\n",
                            "       [ 8.83176087,  5.62522633, 92.66666667],\n",
                            "       [ 8.88819442,  5.63574079, 55.6       ],\n",
                            "       [ 8.94427191,  5.64621617, 93.33333333],\n",
                            "       [ 9.        ,  5.65665283, 56.        ],\n",
                            "       [ 9.05538514,  5.66705111, 94.        ],\n",
                            "       [ 9.11043358,  5.67741137, 56.4       ],\n",
                            "       [ 9.16515139,  5.68773396, 94.66666667],\n",
                            "       [ 9.21954446,  5.69801922, 56.8       ],\n",
                            "       [ 9.2736185 ,  5.70826747, 95.33333333],\n",
                            "       [ 9.32737905,  5.71847906, 57.2       ],\n",
                            "       [ 9.38083152,  5.72865432, 96.        ],\n",
                            "       [ 9.43398113,  5.73879355, 57.6       ],\n",
                            "       [ 9.48683298,  5.74889708, 96.66666667],\n",
                            "       [ 9.53939201,  5.75896522, 58.        ],\n",
                            "       [ 9.59166305,  5.76899828, 97.33333333],\n",
                            "       [ 9.64365076,  5.77899657, 58.4       ],\n",
                            "       [ 9.69535971,  5.78896037, 98.        ],\n",
                            "       [ 9.74679434,  5.79889   , 58.8       ],\n",
                            "       [ 9.79795897,  5.80878573, 98.66666667],\n",
                            "       [ 9.8488578 ,  5.81864787, 59.2       ],\n",
                            "       [ 9.89949494,  5.82847668, 99.33333333],\n",
                            "       [ 9.94987437,  5.83827246, 59.6       ]])"
                        ]
                    },
                    "metadata": {},
                    "execution_count": 72
                }
            ],
            "metadata": {}
        },
        {
            "cell_type": "markdown",
            "source": [
                "### **Задание 2**\r\n",
                "Чему равна сумма косинусов элементов первой сроки массива great_secret"
            ],
            "metadata": {}
        },
        {
            "cell_type": "code",
            "execution_count": 81,
            "source": [
                "#mask_2 = np.array()\r\n",
                "#arr_2 =\r\n",
                "# \r\n",
                "round(np.cos(great_secret[0]).sum(),2)"
            ],
            "outputs": [
                {
                    "output_type": "execute_result",
                    "data": {
                        "text/plain": [
                            "0.16"
                        ]
                    },
                    "metadata": {},
                    "execution_count": 81
                }
            ],
            "metadata": {}
        },
        {
            "cell_type": "markdown",
            "source": [
                "### **Задание 3**\r\n",
                "Чему равна сумма элементов массива great_secret, значение которых больше 50"
            ],
            "metadata": {}
        },
        {
            "cell_type": "code",
            "execution_count": 82,
            "source": [
                "great_secret[great_secret>50].sum()"
            ],
            "outputs": [
                {
                    "output_type": "execute_result",
                    "data": {
                        "text/plain": [
                            "5470.0"
                        ]
                    },
                    "metadata": {},
                    "execution_count": 82
                }
            ],
            "metadata": {}
        },
        {
            "cell_type": "markdown",
            "source": [
                "### Задание 4\r\n",
                "Переведите массив great_secret в одномерную форму. Какое значение в получившемся масссиве имеет элемент с индексом 150"
            ],
            "metadata": {}
        },
        {
            "cell_type": "code",
            "execution_count": 85,
            "source": [
                "great_secret.flatten()[150]"
            ],
            "outputs": [
                {
                    "output_type": "execute_result",
                    "data": {
                        "text/plain": [
                            "7.0710678118654755"
                        ]
                    },
                    "metadata": {},
                    "execution_count": 85
                }
            ],
            "metadata": {}
        },
        {
            "cell_type": "markdown",
            "source": [
                "### Задание 5\r\n",
                "Отсортируйте значения столбцов массива great_secret по возрастанию. Чему равна сумма элементов последней строки отсортированного массива"
            ],
            "metadata": {}
        },
        {
            "cell_type": "code",
            "execution_count": 91,
            "source": [
                "round(np.sort(great_secret,axis=0)[-1].sum(),2)"
            ],
            "outputs": [
                {
                    "output_type": "execute_result",
                    "data": {
                        "text/plain": [
                            "115.12148016521353"
                        ]
                    },
                    "metadata": {},
                    "execution_count": 91
                }
            ],
            "metadata": {}
        }
    ],
    "metadata": {
        "orig_nbformat": 4,
        "language_info": {
            "name": "python",
            "version": "3.9.5",
            "mimetype": "text/x-python",
            "codemirror_mode": {
                "name": "ipython",
                "version": 3
            },
            "pygments_lexer": "ipython3",
            "nbconvert_exporter": "python",
            "file_extension": ".py"
        },
        "kernelspec": {
            "name": "python3",
            "display_name": "Python 3.9.5 64-bit ('.v-machine': venv)"
        },
        "interpreter": {
            "hash": "91bb9dfb0aa2682d472899f8fcdc6f7a97cda47a987b16065f36f3e8fc272924"
        }
    },
    "nbformat": 4,
    "nbformat_minor": 2
}