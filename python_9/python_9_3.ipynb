{
 "metadata": {
  "language_info": {
   "codemirror_mode": {
    "name": "ipython",
    "version": 3
   },
   "file_extension": ".py",
   "mimetype": "text/x-python",
   "name": "python",
   "nbconvert_exporter": "python",
   "pygments_lexer": "ipython3",
   "version": "3.9.5"
  },
  "orig_nbformat": 4,
  "kernelspec": {
   "name": "python3",
   "display_name": "Python 3.9.5 64-bit ('.v-machine': venv)"
  },
  "interpreter": {
   "hash": "91bb9dfb0aa2682d472899f8fcdc6f7a97cda47a987b16065f36f3e8fc272924"
  }
 },
 "nbformat": 4,
 "nbformat_minor": 2,
 "cells": [
  {
   "cell_type": "code",
   "execution_count": 2,
   "metadata": {},
   "outputs": [],
   "source": [
    "import numpy as np"
   ]
  },
  {
   "source": [
    "## 9.3. Индексироваие массивов NumPy\n",
    "Массивы, как и другие итерируемые объекты Python, позволяют обращаться к отдельным своим элементам с помощью индексов и срезов. В этом разделем мы рассмотрим некоторые особенности индексации масиивов разаной размерности. При работе с одномерными массивами все пр иемы работы с индексами похожи на приемы при работе со списками"
   ],
   "cell_type": "markdown",
   "metadata": {}
  },
  {
   "cell_type": "code",
   "execution_count": 8,
   "metadata": {},
   "outputs": [
    {
     "output_type": "stream",
     "name": "stdout",
     "text": [
      "5\n9\n[3 4 5]\n[1 4 7]\n"
     ]
    }
   ],
   "source": [
    "my_array = np.array([x for x in range(10)])\n",
    "print(my_array[5])\n",
    "print(my_array[-1])\n",
    "print(my_array[3:6])\n",
    "print(my_array[1:8:3])"
   ]
  },
  {
   "source": [
    "При работе с двумерными массивами для обращения к элементу мы указваем два индекса, соответствующие номеру строки и номеру столбца. Каждый индекс можно указывать в отдельных квадратных скобках или внутри одной пары скобок через запятую"
   ],
   "cell_type": "markdown",
   "metadata": {}
  },
  {
   "cell_type": "code",
   "execution_count": 10,
   "metadata": {},
   "outputs": [
    {
     "output_type": "stream",
     "name": "stdout",
     "text": [
      "12\n12\n"
     ]
    }
   ],
   "source": [
    "my_array = np.array([\n",
    "    [1,2,3,4],\n",
    "    [10,11,12,13],\n",
    "    [45,46,47,48]\n",
    "])\n",
    "\n",
    "print(my_array[1][2])\n",
    "print(my_array[1,2])"
   ]
  },
  {
   "source": [
    "### Индексация двумерных массивов имеет следующие особенности\n",
    "- при указании только одного оиндекса из массива будет выделена вся строка, соответствующая указанному индексу\n",
    "- можно указывать несколько индексов или срезов для каждой из осей "
   ],
   "cell_type": "markdown",
   "metadata": {}
  },
  {
   "cell_type": "code",
   "execution_count": 15,
   "metadata": {},
   "outputs": [
    {
     "output_type": "stream",
     "name": "stdout",
     "text": [
      "[10 11 12 13]\n[ 3 12 47]\n[[11 12]\n [46 47]]\n"
     ]
    }
   ],
   "source": [
    "print(my_array[1])\n",
    "print(my_array[:,2])\n",
    "print(my_array[1:,1:3])"
   ]
  },
  {
   "source": [
    "## Упражнения"
   ],
   "cell_type": "markdown",
   "metadata": {}
  },
  {
   "cell_type": "code",
   "execution_count": 37,
   "metadata": {},
   "outputs": [],
   "source": [
    "first_line = [x*y for x in range(2,100,6) for y in range(7,1,-2)]\n",
    "second_line = [x ** 0.5 for x in range(1000, 1101, 2)]\n",
    "third_line = [x ** 2 for x in range(51)]\n",
    "\n",
    "big_secret = np.array([first_line, second_line, third_line, second_line, first_line])"
   ]
  },
  {
   "source": [
    "## Задание 1"
   ],
   "cell_type": "markdown",
   "metadata": {}
  },
  {
   "cell_type": "code",
   "execution_count": 38,
   "metadata": {},
   "outputs": [
    {
     "output_type": "stream",
     "name": "stdout",
     "text": [
      "Сумма элементов последнего стобца массива 3154.33\n"
     ]
    }
   ],
   "source": [
    "sum_last_column = 0\n",
    "index_column = big_secret.shape[1] - 1\n",
    "\n",
    "for k in range(big_secret.shape[0]):\n",
    "    sum_last_column += big_secret[k][index_column]\n",
    "\n",
    "print(f'Сумма элементов последнего стобца массива {round(sum_last_column,2)}')"
   ]
  },
  {
   "source": [
    "## Задание 2"
   ],
   "cell_type": "markdown",
   "metadata": {}
  },
  {
   "cell_type": "code",
   "execution_count": 66,
   "metadata": {},
   "outputs": [
    {
     "output_type": "stream",
     "name": "stdout",
     "text": [
      "Сумма элементов главной диагонали матрицы 121.37\n"
     ]
    }
   ],
   "source": [
    "five_row_big = big_secret[:5, :5]\n",
    "sum_diagonal = 0\n",
    "\n",
    "for k in range(five_row_big.shape[0]):\n",
    "    sum_diagonal += five_row_big[k][k]\n",
    "\n",
    "print(f'Сумма элементов главной диагонали матрицы {round(sum_diagonal,2)}')"
   ]
  },
  {
   "source": [
    "## Задание 3"
   ],
   "cell_type": "markdown",
   "metadata": {}
  },
  {
   "cell_type": "code",
   "execution_count": 93,
   "metadata": {},
   "outputs": [
    {
     "output_type": "stream",
     "name": "stdout",
     "text": [
      "341505315559.2347\n"
     ]
    }
   ],
   "source": [
    "row_five_last_element = big_secret[:5, -5:]\n",
    "multiply_diagonal = 1\n",
    "\n",
    "#print(row_five_last_element.shape)\n",
    "\n",
    "for k in range(row_five_last_element.shape[0]):\n",
    "    #print(row_five_last_element[k][k])\n",
    "    multiply_diagonal *= row_five_last_element[k][k]\n",
    "\n",
    "#print(row_five_last_element)\n",
    "print(multiply_diagonal)"
   ]
  },
  {
   "source": [
    "## Особенности индексирования\n",
    "Важное отличие массивов NumPy от списков Python - при изменении среза или отдельных элементов все изменения касаются не только самого среза, но и падают в исходный массив, даже если перед внесением изменений срез был сохранен в виде отдельной переменной"
   ],
   "cell_type": "markdown",
   "metadata": {}
  },
  {
   "cell_type": "code",
   "execution_count": 102,
   "metadata": {},
   "outputs": [
    {
     "output_type": "stream",
     "name": "stdout",
     "text": [
      "[[ 9 26 47 27 64  4]\n [77 50 84 81  6 18]\n [ 5 22 51 29 82 86]\n [25 69 56  2 17 68]]\n===\n[[84 81]\n [51 29]]\n===\n[[ 9 26 47 27 64  4]\n [77 50  0  0  6 18]\n [ 5 22  0  0 82 86]\n [25 69 56  2 17 68]]\n"
     ]
    }
   ],
   "source": [
    "my_array = np.random.randint(1,100, (4,6))\n",
    "\n",
    "print(my_array)\n",
    "print('===')\n",
    "\n",
    "my_slice = my_array[1:3, 2:4]\n",
    "\n",
    "print(my_slice)\n",
    "print('===')\n",
    "\n",
    "my_slice[:] = 0\n",
    "\n",
    "print(my_array)"
   ]
  },
  {
   "source": [
    "## Упражнения\n",
    "Замените на 1 все элементы, у которых оба индекса нечетные, и на -1 все элементы, у которых обо индекса нечетные"
   ],
   "cell_type": "markdown",
   "metadata": {}
  },
  {
   "cell_type": "code",
   "execution_count": 112,
   "metadata": {},
   "outputs": [],
   "source": [
    "\n",
    "for i in range(big_secret.shape[0]):\n",
    "    for j in range(big_secret.shape[1]):\n",
    "        if ((i+1)%2) and ((j+1)%2):\n",
    "            big_secret[i][j] = -1\n",
    "        elif not ((i+1)%2) and not ((j+1)%2):\n",
    "            big_secret[i][j] = 1"
   ]
  },
  {
   "source": [
    "## Задание 4"
   ],
   "cell_type": "markdown",
   "metadata": {}
  },
  {
   "cell_type": "code",
   "execution_count": 113,
   "metadata": {},
   "outputs": [
    {
     "output_type": "stream",
     "name": "stdout",
     "text": [
      "-1.0\n"
     ]
    }
   ],
   "source": [
    "row_five_element = big_secret[:5, :5]\n",
    "\n",
    "five_diagonal = 0\n",
    "\n",
    "for k in range(row_five_last_element.shape[0]):\n",
    "    five_diagonal += row_five_last_element[k][k]\n",
    "\n",
    "print(five_diagonal)"
   ]
  },
  {
   "source": [
    "## Задание 5"
   ],
   "cell_type": "markdown",
   "metadata": {}
  },
  {
   "cell_type": "code",
   "execution_count": 114,
   "metadata": {},
   "outputs": [
    {
     "output_type": "stream",
     "name": "stdout",
     "text": [
      "-1.0\n"
     ]
    }
   ],
   "source": [
    "row_five_element_last = big_secret[:5,-5:]\n",
    "multiply_diag_five = 1\n",
    "for k in range(row_five_element_last.shape[0]):\n",
    "    multiply_diag_five *= row_five_element_last[k][k]\n",
    "\n",
    "print(multiply_diag_five)"
   ]
  }
 ]
}